{
 "cells": [
  {
   "cell_type": "markdown",
   "metadata": {},
   "source": [
    "# Based on  Riess et. al 2016"
   ]
  },
  {
   "cell_type": "code",
   "execution_count": 1,
   "metadata": {},
   "outputs": [
    {
     "name": "stdout",
     "output_type": "stream",
     "text": [
      "Populating the interactive namespace from numpy and matplotlib\n"
     ]
    }
   ],
   "source": [
    "import numpy as np\n",
    "from numpy import power as pw\n",
    "import matplotlib.pyplot as plt\n",
    "from iminuit import Minuit\n",
    "import matplotlib.gridspec as gridspec\n",
    "from astropy.io.ascii import read as aread\n",
    "%pylab inline"
   ]
  },
  {
   "cell_type": "markdown",
   "metadata": {},
   "source": [
    "## Riess et al. 2016"
   ]
  },
  {
   "cell_type": "markdown",
   "metadata": {},
   "source": [
    "### Data load and visualisation"
   ]
  },
  {
   "cell_type": "code",
   "execution_count": 2,
   "metadata": {},
   "outputs": [
    {
     "name": "stderr",
     "output_type": "stream",
     "text": [
      "WARNING: UnitsWarning: '[-]' did not parse as cds unit: Invalid character at col 1 If this is meant to be a custom unit, define it with 'u.def_unit'. To have it recognized inside a file reader or other code, enable it with 'u.add_enabled_units'. For details, see https://docs.astropy.org/en/latest/units/combining_and_defining.html [astropy.units.core]\n"
     ]
    }
   ],
   "source": [
    "data_cephe = aread('./Cepheids data/table4.dat',readme='./Cepheids data/zzz_ReadMe')\n",
    "\n",
    "data_names_sn=['Gal', 'SN_id', 'mag+5a', 'sig_mag+5a', 'mu_i', 'sig_mu_i', 'M0', 'sigM0']\n",
    "data_sn_R16=aread(\"./Cepheids data/R16_SN.txt\",names=data_names_sn)"
   ]
  },
  {
   "cell_type": "code",
   "execution_count": 3,
   "metadata": {},
   "outputs": [
    {
     "data": {
      "text/html": [
       "<i>Table length=1486</i>\n",
       "<table id=\"table139852663663104\" class=\"table-striped table-bordered table-condensed\">\n",
       "<thead><tr><th>Gal</th><th>RAdeg</th><th>DEdeg</th><th>ID</th><th>Per</th><th>V-I</th><th>F160W</th><th>sigTot</th><th>[O/H]</th></tr></thead>\n",
       "<thead><tr><th></th><th>deg</th><th>deg</th><th></th><th>d</th><th>mag</th><th>mag</th><th>mag</th><th>[-]</th></tr></thead>\n",
       "<thead><tr><th>str5</th><th>float64</th><th>float64</th><th>str8</th><th>float64</th><th>float64</th><th>float64</th><th>float64</th><th>float64</th></tr></thead>\n",
       "<tr><td>M101</td><td>210.87979</td><td>54.33376</td><td>115287</td><td>17.95</td><td>0.96</td><td>22.47</td><td>0.3</td><td>9.134</td></tr>\n",
       "<tr><td>M101</td><td>210.74431</td><td>54.33044</td><td>94097</td><td>10.46</td><td>1.32</td><td>22.68</td><td>0.41</td><td>9.174</td></tr>\n",
       "<tr><td>M101</td><td>210.74829</td><td>54.33198</td><td>81242</td><td>11.52</td><td>1.05</td><td>22.96</td><td>0.36</td><td>9.183</td></tr>\n",
       "<tr><td>M101</td><td>210.74632</td><td>54.33275</td><td>92329</td><td>23.08</td><td>1.09</td><td>22.4</td><td>0.22</td><td>9.181</td></tr>\n",
       "<tr><td>M101</td><td>210.7457</td><td>54.33207</td><td>93020</td><td>19.31</td><td>1.55</td><td>22.69</td><td>0.29</td><td>9.179</td></tr>\n",
       "<tr><td>M101</td><td>210.74564</td><td>54.3309</td><td>90168</td><td>5.98</td><td>1.05</td><td>23.93</td><td>0.39</td><td>9.177</td></tr>\n",
       "<tr><td>M101</td><td>210.74648</td><td>54.3348</td><td>97872</td><td>24.6</td><td>1.13</td><td>22.5</td><td>0.21</td><td>9.184</td></tr>\n",
       "<tr><td>M101</td><td>210.7382</td><td>54.31904</td><td>86123</td><td>17.77</td><td>1.1</td><td>22.79</td><td>0.22</td><td>9.142</td></tr>\n",
       "<tr><td>M101</td><td>210.74683</td><td>54.33196</td><td>87556</td><td>10.95</td><td>0.89</td><td>23.19</td><td>0.37</td><td>9.181</td></tr>\n",
       "<tr><td>...</td><td>...</td><td>...</td><td>...</td><td>...</td><td>...</td><td>...</td><td>...</td><td>...</td></tr>\n",
       "<tr><td>U9391</td><td>218.63972</td><td>59.3381</td><td>141824</td><td>32.7</td><td>0.92</td><td>25.68</td><td>0.34</td><td>8.691</td></tr>\n",
       "<tr><td>U9391</td><td>218.65715</td><td>59.34633</td><td>104081</td><td>31.95</td><td>1.26</td><td>25.89</td><td>0.24</td><td>8.784</td></tr>\n",
       "<tr><td>U9391</td><td>218.64194</td><td>59.33881</td><td>139135</td><td>30.69</td><td>0.83</td><td>25.7</td><td>0.34</td><td>8.741</td></tr>\n",
       "<tr><td>U9391</td><td>218.65654</td><td>59.33147</td><td>205995</td><td>28.54</td><td>0.82</td><td>26.26</td><td>0.46</td><td>8.825</td></tr>\n",
       "<tr><td>U9391</td><td>218.66084</td><td>59.33884</td><td>160198</td><td>28.33</td><td>1.39</td><td>24.94</td><td>0.51</td><td>8.913</td></tr>\n",
       "<tr><td>U9391</td><td>218.66785</td><td>59.34115</td><td>150943</td><td>27.95</td><td>0.83</td><td>26.4</td><td>0.48</td><td>8.733</td></tr>\n",
       "<tr><td>U9391</td><td>218.66174</td><td>59.34127</td><td>143428</td><td>27.42</td><td>1.23</td><td>25.36</td><td>0.45</td><td>8.88</td></tr>\n",
       "<tr><td>U9391</td><td>218.64899</td><td>59.34303</td><td>117519</td><td>25.73</td><td>1.43</td><td>26.13</td><td>0.51</td><td>8.813</td></tr>\n",
       "<tr><td>U9391</td><td>218.65372</td><td>59.34307</td><td>122299</td><td>39.08</td><td>1.4</td><td>25.66</td><td>0.51</td><td>8.885</td></tr>\n",
       "<tr><td>U9391</td><td>218.66216</td><td>59.34271</td><td>133794</td><td>25.83</td><td>0.95</td><td>25.69</td><td>0.36</td><td>8.849</td></tr>\n",
       "</table>"
      ],
      "text/plain": [
       "<Table length=1486>\n",
       " Gal    RAdeg    DEdeg     ID     Per     V-I    F160W   sigTot  [O/H] \n",
       "         deg      deg              d      mag     mag     mag     [-]  \n",
       " str5  float64  float64   str8  float64 float64 float64 float64 float64\n",
       "----- --------- -------- ------ ------- ------- ------- ------- -------\n",
       " M101 210.87979 54.33376 115287   17.95    0.96   22.47     0.3   9.134\n",
       " M101 210.74431 54.33044  94097   10.46    1.32   22.68    0.41   9.174\n",
       " M101 210.74829 54.33198  81242   11.52    1.05   22.96    0.36   9.183\n",
       " M101 210.74632 54.33275  92329   23.08    1.09    22.4    0.22   9.181\n",
       " M101  210.7457 54.33207  93020   19.31    1.55   22.69    0.29   9.179\n",
       " M101 210.74564  54.3309  90168    5.98    1.05   23.93    0.39   9.177\n",
       " M101 210.74648  54.3348  97872    24.6    1.13    22.5    0.21   9.184\n",
       " M101  210.7382 54.31904  86123   17.77     1.1   22.79    0.22   9.142\n",
       " M101 210.74683 54.33196  87556   10.95    0.89   23.19    0.37   9.181\n",
       "  ...       ...      ...    ...     ...     ...     ...     ...     ...\n",
       "U9391 218.63972  59.3381 141824    32.7    0.92   25.68    0.34   8.691\n",
       "U9391 218.65715 59.34633 104081   31.95    1.26   25.89    0.24   8.784\n",
       "U9391 218.64194 59.33881 139135   30.69    0.83    25.7    0.34   8.741\n",
       "U9391 218.65654 59.33147 205995   28.54    0.82   26.26    0.46   8.825\n",
       "U9391 218.66084 59.33884 160198   28.33    1.39   24.94    0.51   8.913\n",
       "U9391 218.66785 59.34115 150943   27.95    0.83    26.4    0.48   8.733\n",
       "U9391 218.66174 59.34127 143428   27.42    1.23   25.36    0.45    8.88\n",
       "U9391 218.64899 59.34303 117519   25.73    1.43   26.13    0.51   8.813\n",
       "U9391 218.65372 59.34307 122299   39.08     1.4   25.66    0.51   8.885\n",
       "U9391 218.66216 59.34271 133794   25.83    0.95   25.69    0.36   8.849"
      ]
     },
     "execution_count": 3,
     "metadata": {},
     "output_type": "execute_result"
    }
   ],
   "source": [
    "data_cephe.sort('Gal')\n",
    "data_cephe"
   ]
  },
  {
   "cell_type": "code",
   "execution_count": 4,
   "metadata": {},
   "outputs": [
    {
     "data": {
      "text/html": [
       "<i>Table length=19</i>\n",
       "<table id=\"table139851581989456\" class=\"table-striped table-bordered table-condensed\">\n",
       "<thead><tr><th>Gal</th><th>SN_id</th><th>mag+5a</th><th>sig_mag+5a</th><th>mu_i</th><th>sig_mu_i</th><th>M0</th><th>sigM0</th></tr></thead>\n",
       "<thead><tr><th>str5</th><th>str6</th><th>float64</th><th>float64</th><th>float64</th><th>float64</th><th>float64</th><th>float64</th></tr></thead>\n",
       "<tr><td>M101</td><td>2011fe</td><td>13.31</td><td>0.117</td><td>29.135</td><td>0.045</td><td>-19.389</td><td>0.125</td></tr>\n",
       "<tr><td>N1015</td><td>2009ig</td><td>17.015</td><td>0.123</td><td>32.497</td><td>0.081</td><td>-19.047</td><td>0.147</td></tr>\n",
       "<tr><td>N1309</td><td>2002fk</td><td>16.756</td><td>0.116</td><td>32.523</td><td>0.055</td><td>-19.331</td><td>0.128</td></tr>\n",
       "<tr><td>N1365</td><td>2012fr</td><td>15.482</td><td>0.125</td><td>31.307</td><td>0.057</td><td>-19.39</td><td>0.137</td></tr>\n",
       "<tr><td>N1448</td><td>2001el</td><td>15.765</td><td>0.116</td><td>31.311</td><td>0.045</td><td>-19.111</td><td>0.125</td></tr>\n",
       "<tr><td>N2442</td><td>2015F</td><td>15.84</td><td>0.142</td><td>31.511</td><td>0.053</td><td>-19.236</td><td>0.152</td></tr>\n",
       "<tr><td>N3021</td><td>1995al</td><td>16.527</td><td>0.117</td><td>32.498</td><td>0.09</td><td>-19.535</td><td>0.147</td></tr>\n",
       "<tr><td>N3370</td><td>1994ae</td><td>16.476</td><td>0.115</td><td>32.072</td><td>0.049</td><td>-19.161</td><td>0.125</td></tr>\n",
       "<tr><td>N3447</td><td>2012ht</td><td>16.265</td><td>0.124</td><td>31.908</td><td>0.043</td><td>-19.207</td><td>0.131</td></tr>\n",
       "<tr><td>N3972</td><td>2011by</td><td>16.048</td><td>0.116</td><td>31.587</td><td>0.07</td><td>-19.103</td><td>0.136</td></tr>\n",
       "<tr><td>N3982</td><td>1998aq</td><td>15.795</td><td>0.115</td><td>31.737</td><td>0.069</td><td>-19.507</td><td>0.134</td></tr>\n",
       "<tr><td>N4038</td><td>2007sr</td><td>15.797</td><td>0.114</td><td>31.29</td><td>0.112</td><td>-19.058</td><td>0.16</td></tr>\n",
       "<tr><td>N4424</td><td>2012cg</td><td>15.11</td><td>0.109</td><td>31.08</td><td>0.292</td><td>-19.534</td><td>0.311</td></tr>\n",
       "<tr><td>N4536</td><td>1981B</td><td>15.177</td><td>0.124</td><td>30.906</td><td>0.053</td><td>-19.293</td><td>0.135</td></tr>\n",
       "<tr><td>N4639</td><td>1990N</td><td>15.983</td><td>0.115</td><td>31.532</td><td>0.071</td><td>-19.113</td><td>0.135</td></tr>\n",
       "<tr><td>N5584</td><td>2007af</td><td>16.265</td><td>0.115</td><td>31.786</td><td>0.046</td><td>-19.085</td><td>0.124</td></tr>\n",
       "<tr><td>N5917</td><td>2005cf</td><td>16.572</td><td>0.115</td><td>32.263</td><td>0.102</td><td>-19.255</td><td>0.154</td></tr>\n",
       "<tr><td>N7250</td><td>2013dy</td><td>15.867</td><td>0.115</td><td>31.499</td><td>0.078</td><td>-19.196</td><td>0.139</td></tr>\n",
       "<tr><td>U9391</td><td>2003du</td><td>17.034</td><td>0.114</td><td>32.919</td><td>0.063</td><td>-19.449</td><td>0.13</td></tr>\n",
       "</table>"
      ],
      "text/plain": [
       "<Table length=19>\n",
       " Gal  SN_id   mag+5a sig_mag+5a   mu_i  sig_mu_i    M0    sigM0 \n",
       " str5  str6  float64  float64   float64 float64  float64 float64\n",
       "----- ------ ------- ---------- ------- -------- ------- -------\n",
       " M101 2011fe   13.31      0.117  29.135    0.045 -19.389   0.125\n",
       "N1015 2009ig  17.015      0.123  32.497    0.081 -19.047   0.147\n",
       "N1309 2002fk  16.756      0.116  32.523    0.055 -19.331   0.128\n",
       "N1365 2012fr  15.482      0.125  31.307    0.057  -19.39   0.137\n",
       "N1448 2001el  15.765      0.116  31.311    0.045 -19.111   0.125\n",
       "N2442  2015F   15.84      0.142  31.511    0.053 -19.236   0.152\n",
       "N3021 1995al  16.527      0.117  32.498     0.09 -19.535   0.147\n",
       "N3370 1994ae  16.476      0.115  32.072    0.049 -19.161   0.125\n",
       "N3447 2012ht  16.265      0.124  31.908    0.043 -19.207   0.131\n",
       "N3972 2011by  16.048      0.116  31.587     0.07 -19.103   0.136\n",
       "N3982 1998aq  15.795      0.115  31.737    0.069 -19.507   0.134\n",
       "N4038 2007sr  15.797      0.114   31.29    0.112 -19.058    0.16\n",
       "N4424 2012cg   15.11      0.109   31.08    0.292 -19.534   0.311\n",
       "N4536  1981B  15.177      0.124  30.906    0.053 -19.293   0.135\n",
       "N4639  1990N  15.983      0.115  31.532    0.071 -19.113   0.135\n",
       "N5584 2007af  16.265      0.115  31.786    0.046 -19.085   0.124\n",
       "N5917 2005cf  16.572      0.115  32.263    0.102 -19.255   0.154\n",
       "N7250 2013dy  15.867      0.115  31.499    0.078 -19.196   0.139\n",
       "U9391 2003du  17.034      0.114  32.919    0.063 -19.449    0.13"
      ]
     },
     "execution_count": 4,
     "metadata": {},
     "output_type": "execute_result"
    }
   ],
   "source": [
    "data_sn_R16.sort('Gal')\n",
    "data_sn_R16"
   ]
  },
  {
   "cell_type": "code",
   "execution_count": 5,
   "metadata": {},
   "outputs": [],
   "source": [
    "host_list = sorted(set(data_cephe['Gal']))\n",
    "sn_host = sorted(set(data_sn_R16['Gal']))"
   ]
  },
  {
   "cell_type": "code",
   "execution_count": 6,
   "metadata": {},
   "outputs": [],
   "source": [
    "#DEFINITION DES MESURES EXTERNES\n",
    "R=0.39\n",
    "\n",
    "aB=0.71273\n",
    "sig_aB=0.00176\n",
    "\n",
    "mu_N4258 = 29.387\n",
    "sig_mu_N4258 = 0.0568"
   ]
  },
  {
   "cell_type": "code",
   "execution_count": 7,
   "metadata": {},
   "outputs": [],
   "source": [
    "data_cephe['mw'] = data_cephe['F160W']-R*data_cephe['V-I']"
   ]
  },
  {
   "cell_type": "code",
   "execution_count": 8,
   "metadata": {},
   "outputs": [
    {
     "data": {
      "text/html": [
       "<i>Table length=1486</i>\n",
       "<table id=\"table139852663663104\" class=\"table-striped table-bordered table-condensed\">\n",
       "<thead><tr><th>Gal</th><th>RAdeg</th><th>DEdeg</th><th>ID</th><th>Per</th><th>V-I</th><th>F160W</th><th>sigTot</th><th>[O/H]</th><th>mw</th></tr></thead>\n",
       "<thead><tr><th></th><th>deg</th><th>deg</th><th></th><th>d</th><th>mag</th><th>mag</th><th>mag</th><th>[-]</th><th>mag</th></tr></thead>\n",
       "<thead><tr><th>str5</th><th>float64</th><th>float64</th><th>str8</th><th>float64</th><th>float64</th><th>float64</th><th>float64</th><th>float64</th><th>float64</th></tr></thead>\n",
       "<tr><td>M101</td><td>210.87979</td><td>54.33376</td><td>115287</td><td>17.95</td><td>0.96</td><td>22.47</td><td>0.3</td><td>9.134</td><td>22.095599999999997</td></tr>\n",
       "<tr><td>M101</td><td>210.89227</td><td>54.36125</td><td>148312</td><td>11.86</td><td>1.07</td><td>22.94</td><td>0.32</td><td>9.113</td><td>22.5227</td></tr>\n",
       "<tr><td>M101</td><td>210.89351</td><td>54.36826</td><td>164932</td><td>14.92</td><td>1.13</td><td>23.03</td><td>0.32</td><td>9.105</td><td>22.5893</td></tr>\n",
       "<tr><td>M101</td><td>210.87982</td><td>54.33565</td><td>121146</td><td>11.86</td><td>0.96</td><td>23.14</td><td>0.45</td><td>9.136</td><td>22.7656</td></tr>\n",
       "<tr><td>M101</td><td>210.89249</td><td>54.36142</td><td>147959</td><td>7.762</td><td>1.01</td><td>23.79</td><td>0.42</td><td>9.113</td><td>23.3961</td></tr>\n",
       "<tr><td>M101</td><td>210.87549</td><td>54.34114</td><td>157556</td><td>25.57</td><td>1.14</td><td>22.75</td><td>0.19</td><td>9.148</td><td>22.3054</td></tr>\n",
       "<tr><td>M101</td><td>210.88855</td><td>54.34493</td><td>112715</td><td>8.173</td><td>0.97</td><td>23.8</td><td>0.42</td><td>9.124</td><td>23.4217</td></tr>\n",
       "<tr><td>M101</td><td>210.88664</td><td>54.34654</td><td>126118</td><td>6.969</td><td>0.83</td><td>23.84</td><td>0.43</td><td>9.129</td><td>23.5163</td></tr>\n",
       "<tr><td>M101</td><td>210.8745</td><td>54.34108</td><td>161621</td><td>14.43</td><td>1.24</td><td>23.96</td><td>0.37</td><td>9.15</td><td>23.4764</td></tr>\n",
       "<tr><td>...</td><td>...</td><td>...</td><td>...</td><td>...</td><td>...</td><td>...</td><td>...</td><td>...</td><td>...</td></tr>\n",
       "<tr><td>U9391</td><td>218.65211</td><td>59.33366</td><td>187232</td><td>55.17</td><td>1.29</td><td>25.38</td><td>0.41</td><td>8.94</td><td>24.8769</td></tr>\n",
       "<tr><td>U9391</td><td>218.66132</td><td>59.33604</td><td>180785</td><td>71.32</td><td>1.37</td><td>24.49</td><td>0.23</td><td>8.863</td><td>23.955699999999997</td></tr>\n",
       "<tr><td>U9391</td><td>218.65494</td><td>59.33538</td><td>178622</td><td>52.02</td><td>1.36</td><td>24.65</td><td>0.45</td><td>8.988</td><td>24.1196</td></tr>\n",
       "<tr><td>U9391</td><td>218.65421</td><td>59.33036</td><td>210838</td><td>45.19</td><td>1.04</td><td>24.66</td><td>0.25</td><td>8.81</td><td>24.2544</td></tr>\n",
       "<tr><td>U9391</td><td>218.6702</td><td>59.34615</td><td>118457</td><td>44.89</td><td>1.32</td><td>25.5</td><td>0.19</td><td>8.637</td><td>24.9852</td></tr>\n",
       "<tr><td>U9391</td><td>218.66357</td><td>59.33857</td><td>165258</td><td>44.48</td><td>1.36</td><td>26.04</td><td>0.4</td><td>8.838</td><td>25.5096</td></tr>\n",
       "<tr><td>U9391</td><td>218.65392</td><td>59.33286</td><td>194365</td><td>43.66</td><td>1.14</td><td>25.79</td><td>0.4</td><td>8.905</td><td>25.345399999999998</td></tr>\n",
       "<tr><td>U9391</td><td>218.65372</td><td>59.34307</td><td>122299</td><td>39.08</td><td>1.4</td><td>25.66</td><td>0.51</td><td>8.885</td><td>25.114</td></tr>\n",
       "<tr><td>U9391</td><td>218.64342</td><td>59.34121</td><td>124125</td><td>39.93</td><td>1.0</td><td>25.75</td><td>0.26</td><td>8.734</td><td>25.36</td></tr>\n",
       "<tr><td>U9391</td><td>218.66216</td><td>59.34271</td><td>133794</td><td>25.83</td><td>0.95</td><td>25.69</td><td>0.36</td><td>8.849</td><td>25.3195</td></tr>\n",
       "</table>"
      ],
      "text/plain": [
       "<Table length=1486>\n",
       " Gal    RAdeg    DEdeg     ID   ...  F160W   sigTot  [O/H]          mw        \n",
       "         deg      deg           ...   mag     mag     [-]          mag        \n",
       " str5  float64  float64   str8  ... float64 float64 float64      float64      \n",
       "----- --------- -------- ------ ... ------- ------- ------- ------------------\n",
       " M101 210.87979 54.33376 115287 ...   22.47     0.3   9.134 22.095599999999997\n",
       " M101 210.89227 54.36125 148312 ...   22.94    0.32   9.113            22.5227\n",
       " M101 210.89351 54.36826 164932 ...   23.03    0.32   9.105            22.5893\n",
       " M101 210.87982 54.33565 121146 ...   23.14    0.45   9.136            22.7656\n",
       " M101 210.89249 54.36142 147959 ...   23.79    0.42   9.113            23.3961\n",
       " M101 210.87549 54.34114 157556 ...   22.75    0.19   9.148            22.3054\n",
       " M101 210.88855 54.34493 112715 ...    23.8    0.42   9.124            23.4217\n",
       " M101 210.88664 54.34654 126118 ...   23.84    0.43   9.129            23.5163\n",
       " M101  210.8745 54.34108 161621 ...   23.96    0.37    9.15            23.4764\n",
       "  ...       ...      ...    ... ...     ...     ...     ...                ...\n",
       "U9391 218.65211 59.33366 187232 ...   25.38    0.41    8.94            24.8769\n",
       "U9391 218.66132 59.33604 180785 ...   24.49    0.23   8.863 23.955699999999997\n",
       "U9391 218.65494 59.33538 178622 ...   24.65    0.45   8.988            24.1196\n",
       "U9391 218.65421 59.33036 210838 ...   24.66    0.25    8.81            24.2544\n",
       "U9391  218.6702 59.34615 118457 ...    25.5    0.19   8.637            24.9852\n",
       "U9391 218.66357 59.33857 165258 ...   26.04     0.4   8.838            25.5096\n",
       "U9391 218.65392 59.33286 194365 ...   25.79     0.4   8.905 25.345399999999998\n",
       "U9391 218.65372 59.34307 122299 ...   25.66    0.51   8.885             25.114\n",
       "U9391 218.64342 59.34121 124125 ...   25.75    0.26   8.734              25.36\n",
       "U9391 218.66216 59.34271 133794 ...   25.69    0.36   8.849            25.3195"
      ]
     },
     "execution_count": 8,
     "metadata": {},
     "output_type": "execute_result"
    }
   ],
   "source": [
    "data_cephe.sort('Gal')\n",
    "data_cephe"
   ]
  },
  {
   "cell_type": "code",
   "execution_count": 9,
   "metadata": {
    "scrolled": false
   },
   "outputs": [
    {
     "data": {
      "text/html": [
       "<i>Table length=19</i>\n",
       "<table id=\"table139851581989456\" class=\"table-striped table-bordered table-condensed\">\n",
       "<thead><tr><th>Gal</th><th>SN_id</th><th>mag+5a</th><th>sig_mag+5a</th><th>mu_i</th><th>sig_mu_i</th><th>M0</th><th>sigM0</th><th>mB</th><th>sig_mB</th></tr></thead>\n",
       "<thead><tr><th>str5</th><th>str6</th><th>float64</th><th>float64</th><th>float64</th><th>float64</th><th>float64</th><th>float64</th><th>float64</th><th>float64</th></tr></thead>\n",
       "<tr><td>M101</td><td>2011fe</td><td>13.31</td><td>0.117</td><td>29.135</td><td>0.045</td><td>-19.389</td><td>0.125</td><td>9.74635</td><td>0.11698676164421341</td></tr>\n",
       "<tr><td>N1015</td><td>2009ig</td><td>17.015</td><td>0.123</td><td>32.497</td><td>0.081</td><td>-19.047</td><td>0.147</td><td>13.451350000000001</td><td>0.12298740748548202</td></tr>\n",
       "<tr><td>N1309</td><td>2002fk</td><td>16.756</td><td>0.116</td><td>32.523</td><td>0.055</td><td>-19.331</td><td>0.128</td><td>13.192350000000001</td><td>0.11598664750737475</td></tr>\n",
       "<tr><td>N1365</td><td>2012fr</td><td>15.482</td><td>0.125</td><td>31.307</td><td>0.057</td><td>-19.39</td><td>0.137</td><td>11.91835</td><td>0.12498760898585107</td></tr>\n",
       "<tr><td>N1448</td><td>2001el</td><td>15.765</td><td>0.116</td><td>31.311</td><td>0.045</td><td>-19.111</td><td>0.125</td><td>12.201350000000001</td><td>0.11598664750737475</td></tr>\n",
       "<tr><td>N2442</td><td>2015F</td><td>15.84</td><td>0.142</td><td>31.511</td><td>0.053</td><td>-19.236</td><td>0.152</td><td>12.27635</td><td>0.14198909253882847</td></tr>\n",
       "<tr><td>N3021</td><td>1995al</td><td>16.527</td><td>0.117</td><td>32.498</td><td>0.09</td><td>-19.535</td><td>0.147</td><td>12.963350000000002</td><td>0.11698676164421341</td></tr>\n",
       "<tr><td>N3370</td><td>1994ae</td><td>16.476</td><td>0.115</td><td>32.072</td><td>0.049</td><td>-19.161</td><td>0.125</td><td>12.91235</td><td>0.1149865313852018</td></tr>\n",
       "<tr><td>N3447</td><td>2012ht</td><td>16.265</td><td>0.124</td><td>31.908</td><td>0.043</td><td>-19.207</td><td>0.131</td><td>12.701350000000001</td><td>0.12398750904829083</td></tr>\n",
       "<tr><td>N3972</td><td>2011by</td><td>16.048</td><td>0.116</td><td>31.587</td><td>0.07</td><td>-19.103</td><td>0.136</td><td>12.48435</td><td>0.11598664750737475</td></tr>\n",
       "<tr><td>N3982</td><td>1998aq</td><td>15.795</td><td>0.115</td><td>31.737</td><td>0.069</td><td>-19.507</td><td>0.134</td><td>12.231349999999999</td><td>0.1149865313852018</td></tr>\n",
       "<tr><td>N4038</td><td>2007sr</td><td>15.797</td><td>0.114</td><td>31.29</td><td>0.112</td><td>-19.058</td><td>0.16</td><td>12.233350000000002</td><td>0.11398641322543665</td></tr>\n",
       "<tr><td>N4424</td><td>2012cg</td><td>15.11</td><td>0.109</td><td>31.08</td><td>0.292</td><td>-19.534</td><td>0.311</td><td>11.54635</td><td>0.10898578989941762</td></tr>\n",
       "<tr><td>N4536</td><td>1981B</td><td>15.177</td><td>0.124</td><td>30.906</td><td>0.053</td><td>-19.293</td><td>0.135</td><td>11.61335</td><td>0.12398750904829083</td></tr>\n",
       "<tr><td>N4639</td><td>1990N</td><td>15.983</td><td>0.115</td><td>31.532</td><td>0.071</td><td>-19.113</td><td>0.135</td><td>12.419350000000001</td><td>0.1149865313852018</td></tr>\n",
       "<tr><td>N5584</td><td>2007af</td><td>16.265</td><td>0.115</td><td>31.786</td><td>0.046</td><td>-19.085</td><td>0.124</td><td>12.701350000000001</td><td>0.1149865313852018</td></tr>\n",
       "<tr><td>N5917</td><td>2005cf</td><td>16.572</td><td>0.115</td><td>32.263</td><td>0.102</td><td>-19.255</td><td>0.154</td><td>13.00835</td><td>0.1149865313852018</td></tr>\n",
       "<tr><td>N7250</td><td>2013dy</td><td>15.867</td><td>0.115</td><td>31.499</td><td>0.078</td><td>-19.196</td><td>0.139</td><td>12.303350000000002</td><td>0.1149865313852018</td></tr>\n",
       "<tr><td>U9391</td><td>2003du</td><td>17.034</td><td>0.114</td><td>32.919</td><td>0.063</td><td>-19.449</td><td>0.13</td><td>13.47035</td><td>0.11398641322543665</td></tr>\n",
       "</table>"
      ],
      "text/plain": [
       "<Table length=19>\n",
       " Gal  SN_id   mag+5a ...  sigM0          mB                sig_mB      \n",
       " str5  str6  float64 ... float64      float64             float64      \n",
       "----- ------ ------- ... ------- ------------------ -------------------\n",
       " M101 2011fe   13.31 ...   0.125            9.74635 0.11698676164421341\n",
       "N1015 2009ig  17.015 ...   0.147 13.451350000000001 0.12298740748548202\n",
       "N1309 2002fk  16.756 ...   0.128 13.192350000000001 0.11598664750737475\n",
       "N1365 2012fr  15.482 ...   0.137           11.91835 0.12498760898585107\n",
       "N1448 2001el  15.765 ...   0.125 12.201350000000001 0.11598664750737475\n",
       "N2442  2015F   15.84 ...   0.152           12.27635 0.14198909253882847\n",
       "N3021 1995al  16.527 ...   0.147 12.963350000000002 0.11698676164421341\n",
       "N3370 1994ae  16.476 ...   0.125           12.91235  0.1149865313852018\n",
       "N3447 2012ht  16.265 ...   0.131 12.701350000000001 0.12398750904829083\n",
       "N3972 2011by  16.048 ...   0.136           12.48435 0.11598664750737475\n",
       "N3982 1998aq  15.795 ...   0.134 12.231349999999999  0.1149865313852018\n",
       "N4038 2007sr  15.797 ...    0.16 12.233350000000002 0.11398641322543665\n",
       "N4424 2012cg   15.11 ...   0.311           11.54635 0.10898578989941762\n",
       "N4536  1981B  15.177 ...   0.135           11.61335 0.12398750904829083\n",
       "N4639  1990N  15.983 ...   0.135 12.419350000000001  0.1149865313852018\n",
       "N5584 2007af  16.265 ...   0.124 12.701350000000001  0.1149865313852018\n",
       "N5917 2005cf  16.572 ...   0.154           13.00835  0.1149865313852018\n",
       "N7250 2013dy  15.867 ...   0.139 12.303350000000002  0.1149865313852018\n",
       "U9391 2003du  17.034 ...    0.13           13.47035 0.11398641322543665"
      ]
     },
     "execution_count": 9,
     "metadata": {},
     "output_type": "execute_result"
    }
   ],
   "source": [
    "data_sn_R16['mB'] = data_sn_R16['mag+5a'] - 5*aB\n",
    "data_sn_R16['sig_mB'] = np.sqrt(pw(data_sn_R16['sig_mag+5a'],2)-pw(sig_aB,2))\n",
    "data_sn_R16"
   ]
  },
  {
   "cell_type": "markdown",
   "metadata": {},
   "source": [
    "#### Plot"
   ]
  },
  {
   "cell_type": "code",
   "execution_count": 10,
   "metadata": {
    "scrolled": true
   },
   "outputs": [
    {
     "name": "stderr",
     "output_type": "stream",
     "text": [
      "<ipython-input-10-e363674870ca>:3: RuntimeWarning: More than 20 figures have been opened. Figures created through the pyplot interface (`matplotlib.pyplot.figure`) are retained until explicitly closed and may consume too much memory. (To control this warning, see the rcParam `figure.max_open_warning`).\n",
      "  plt.figure()\n"
     ]
    },
    {
     "data": {
      "image/png": "[encoded data removed]",
      "text/plain": [
       "<Figure size 432x288 with 1 Axes>"
      ]
     },
     "metadata": {
      "needs_background": "light"
     },
     "output_type": "display_data"
    },
    {
     "data": {
      "image/png": "[encoded data removed]",
      "text/plain": [
       "<Figure size 432x288 with 1 Axes>"
      ]
     },
     "metadata": {
      "needs_background": "light"
     },
     "output_type": "display_data"
    },
    {
     "data": {
      "image/png": "[encoded data removed]",
      "text/plain": [
       "<Figure size 432x288 with 1 Axes>"
      ]
     },
     "metadata": {
      "needs_background": "light"
     },
     "output_type": "display_data"
    },
    {
     "data": {
      "image/png": "[encoded data removed]",
      "text/plain": [
       "<Figure size 432x288 with 1 Axes>"
      ]
     },
     "metadata": {
      "needs_background": "light"
     },
     "output_type": "display_data"
    },
    {
     "data": {
      "image/png": "[encoded data removed]",
      "text/plain": [
       "<Figure size 432x288 with 1 Axes>"
      ]
     },
     "metadata": {
      "needs_background": "light"
     },
     "output_type": "display_data"
    },
    {
     "data": {
      "image/png": "[encoded data removed]",
      "text/plain": [
       "<Figure size 432x288 with 1 Axes>"
      ]
     },
     "metadata": {
      "needs_background": "light"
     },
     "output_type": "display_data"
    },
    {
     "data": {
      "image/png": "[encoded data removed]",
      "text/plain": [
       "<Figure size 432x288 with 1 Axes>"
      ]
     },
     "metadata": {
      "needs_background": "light"
     },
     "output_type": "display_data"
    },
    {
     "data": {
      "image/png": "[encoded data removed]",
      "text/plain": [
       "<Figure size 432x288 with 1 Axes>"
      ]
     },
     "metadata": {
      "needs_background": "light"
     },
     "output_type": "display_data"
    },
    {
     "data": {
      "image/png": "[encoded data removed]",
      "text/plain": [
       "<Figure size 432x288 with 1 Axes>"
      ]
     },
     "metadata": {
      "needs_background": "light"
     },
     "output_type": "display_data"
    },
    {
     "data": {
      "image/png": "[encoded data removed]",
      "text/plain": [
       "<Figure size 432x288 with 1 Axes>"
      ]
     },
     "metadata": {
      "needs_background": "light"
     },
     "output_type": "display_data"
    },
    {
     "data": {
      "image/png": "[encoded data removed]",
      "text/plain": [
       "<Figure size 432x288 with 1 Axes>"
      ]
     },
     "metadata": {
      "needs_background": "light"
     },
     "output_type": "display_data"
    },
    {
     "data": {
      "image/png": "[encoded data removed]",
      "text/plain": [
       "<Figure size 432x288 with 1 Axes>"
      ]
     },
     "metadata": {
      "needs_background": "light"
     },
     "output_type": "display_data"
    },
    {
     "data": {
      "image/png": "[encoded data removed]",
      "text/plain": [
       "<Figure size 432x288 with 1 Axes>"
      ]
     },
     "metadata": {
      "needs_background": "light"
     },
     "output_type": "display_data"
    },
    {
     "data": {
      "image/png": "[encoded data removed]",
      "text/plain": [
       "<Figure size 432x288 with 1 Axes>"
      ]
     },
     "metadata": {
      "needs_background": "light"
     },
     "output_type": "display_data"
    },
    {
     "data": {
      "image/png": "[encoded data removed]",
      "text/plain": [
       "<Figure size 432x288 with 1 Axes>"
      ]
     },
     "metadata": {
      "needs_background": "light"
     },
     "output_type": "display_data"
    },
    {
     "data": {
      "image/png": "[encoded data removed]",
      "text/plain": [
       "<Figure size 432x288 with 1 Axes>"
      ]
     },
     "metadata": {
      "needs_background": "light"
     },
     "output_type": "display_data"
    },
    {
     "data": {
      "image/png": "[encoded data removed]",
      "text/plain": [
       "<Figure size 432x288 with 1 Axes>"
      ]
     },
     "metadata": {
      "needs_background": "light"
     },
     "output_type": "display_data"
    },
    {
     "data": {
      "image/png": "[encoded data removed]",
      "text/plain": [
       "<Figure size 432x288 with 1 Axes>"
      ]
     },
     "metadata": {
      "needs_background": "light"
     },
     "output_type": "display_data"
    },
    {
     "data": {
      "image/png": "[encoded data removed]",
      "text/plain": [
       "<Figure size 432x288 with 1 Axes>"
      ]
     },
     "metadata": {
      "needs_background": "light"
     },
     "output_type": "display_data"
    },
    {
     "data": {
      "image/png": "[encoded data removed]",
      "text/plain": [
       "<Figure size 432x288 with 1 Axes>"
      ]
     },
     "metadata": {
      "needs_background": "light"
     },
     "output_type": "display_data"
    },
    {
     "data": {
      "image/png": "[encoded data removed]",
      "text/plain": [
       "<Figure size 432x288 with 1 Axes>"
      ]
     },
     "metadata": {
      "needs_background": "light"
     },
     "output_type": "display_data"
    }
   ],
   "source": [
    "for host in host_list:\n",
    "    cephe_list = data_cephe[data_cephe['Gal']== host]\n",
    "    plt.figure()\n",
    "    plt.title(host)\n",
    "    plt.errorbar(cephe_list['Per'], cephe_list['mw'],yerr=cephe_list['sigTot'],fmt='.')\n",
    "    plt.gca().invert_yaxis()\n",
    "    plt.xscale('log')\n",
    "    plt.xlabel('logP')\n",
    "    plt.ylabel('mw')\n",
    "plt.show()"
   ]
  },
  {
   "cell_type": "markdown",
   "metadata": {},
   "source": [
    "### Fit without SN Ia and M31"
   ]
  },
  {
   "cell_type": "code",
   "execution_count": 11,
   "metadata": {},
   "outputs": [],
   "source": [
    "data_woM31 = data_cephe[data_cephe['Gal'] != 'M31']"
   ]
  },
  {
   "cell_type": "code",
   "execution_count": 12,
   "metadata": {},
   "outputs": [],
   "source": [
    "#res = mu_i-mu_4258, zpw4258, bw, Zw\n",
    "n_params = 3\n",
    "\n",
    "############################\n",
    "#SN HOST CEPHEIDS and SN Ia#\n",
    "############################\n",
    "n_ceph_by_host = [len(data_woM31[data_woM31['Gal']== host]) for host in sn_host]\n",
    "n_ceph = np.sum(n_ceph_by_host)\n",
    "n_ceph_cumsum = np.concatenate(([0],np.cumsum(n_ceph_by_host)))\n",
    "n_sn = len(sn_host)\n",
    "L_ceph = np.zeros((n_ceph,n_sn+n_params))\n",
    "L_sn = np.zeros((n_sn,n_sn+n_params))\n",
    "y_ceph=np.zeros(n_ceph)\n",
    "y_sn = np.zeros(n_sn)\n",
    "cov_ceph=np.zeros(n_ceph)\n",
    "cov_sn=np.zeros(n_sn)\n",
    "\n",
    "for i,host in enumerate(sn_host):\n",
    "    selec_ceph = data_woM31[data_woM31['Gal']== host]\n",
    "    \n",
    "    n_ceph_host = n_ceph_by_host[i]\n",
    "    L_ceph[n_ceph_cumsum[i]:n_ceph_cumsum[i+1],i] = 1\n",
    "    L_ceph[n_ceph_cumsum[i]:n_ceph_cumsum[i+1],-3] = 1\n",
    "    L_ceph[n_ceph_cumsum[i]:n_ceph_cumsum[i+1],-2] = np.log10(selec_ceph['Per'])\n",
    "    L_ceph[n_ceph_cumsum[i]:n_ceph_cumsum[i+1],-1] = selec_ceph['[O/H]'] - 8.66\n",
    "\n",
    "    \n",
    "    y_ceph[n_ceph_cumsum[i]:n_ceph_cumsum[i+1]]= selec_ceph['mw'] \n",
    "    \n",
    "    cov_ceph[n_ceph_cumsum[i]:n_ceph_cumsum[i+1]] = pw(selec_ceph['sigTot'],2) + 0.02\n",
    "\n",
    "###################\n",
    "#NGC 4258 CEPHEIDS#\n",
    "###################\n",
    "selec_ceph = data_woM31[data_woM31['Gal'] == 'N4258']\n",
    "n_4258 = len(selec_ceph)\n",
    "L_4258 = np.zeros((n_4258,n_sn+n_params))\n",
    "L_4258[:,-3] = 1\n",
    "L_4258[:,-2] = np.log10(selec_ceph['Per'])\n",
    "L_4258[:,-1] = selec_ceph['[O/H]'] - 8.66\n",
    "\n",
    "y_4258 = selec_ceph['mw']\n",
    "cov_4258 = pw(selec_ceph['sigTot'],2) + 0.02\n"
   ]
  },
  {
   "cell_type": "code",
   "execution_count": 13,
   "metadata": {},
   "outputs": [
    {
     "name": "stdout",
     "output_type": "stream",
     "text": [
      "nbr cepheids = 1114\n"
     ]
    }
   ],
   "source": [
    "L = np.concatenate((L_ceph, L_4258))\n",
    "y = np.concatenate((y_ceph, y_4258))\n",
    "C = np.diag(np.concatenate((cov_ceph, cov_4258)))\n",
    "print(f\"nbr cepheids = {len(y_ceph)+len(y_4258)}\")"
   ]
  },
  {
   "cell_type": "code",
   "execution_count": 14,
   "metadata": {},
   "outputs": [],
   "source": [
    "C_inv = np.linalg.inv(C)\n",
    "cov_res = np.linalg.inv(L.T @ C_inv @ L)\n",
    "res = cov_res @ L.T @ C_inv @ y\n",
    "\n",
    "err_fit = np.sqrt(np.diag(cov_res))"
   ]
  },
  {
   "cell_type": "code",
   "execution_count": 15,
   "metadata": {},
   "outputs": [
    {
     "name": "stdout",
     "output_type": "stream",
     "text": [
      "[-0.17371801  3.06293843  3.10665416  1.93024379  1.92521474  2.1443888\n",
      "  3.13003975  2.67286461  2.52576356  2.24208267  2.34207991  1.88562869\n",
      "  1.73810282  1.52259656  2.13589482  2.37842897  2.856925    2.06926588\n",
      "  3.51171533 26.42745865 -3.05758415 -0.20989443]\n",
      "[0.0444912  0.09645888 0.06288043 0.06629178 0.05136714 0.05401155\n",
      " 0.09993138 0.05481066 0.04786151 0.07894271 0.08288654 0.12486609\n",
      " 0.31492222 0.06009121 0.07962576 0.05066659 0.11708777 0.09335091\n",
      " 0.0723425  0.07315403 0.05042422 0.09265824]\n"
     ]
    }
   ],
   "source": [
    "print(res)\n",
    "print(err_fit)"
   ]
  },
  {
   "cell_type": "code",
   "execution_count": 16,
   "metadata": {},
   "outputs": [
    {
     "name": "stdout",
     "output_type": "stream",
     "text": [
      "delta_mu_M101 = -0.174 +/- 0.044\n",
      "delta_mu_N1015 = 3.063 +/- 0.096\n",
      "delta_mu_N1309 = 3.107 +/- 0.063\n",
      "delta_mu_N1365 = 1.930 +/- 0.066\n",
      "delta_mu_N1448 = 1.925 +/- 0.051\n",
      "delta_mu_N2442 = 2.144 +/- 0.054\n",
      "delta_mu_N3021 = 3.130 +/- 0.100\n",
      "delta_mu_N3370 = 2.673 +/- 0.055\n",
      "delta_mu_N3447 = 2.526 +/- 0.048\n",
      "delta_mu_N3972 = 2.242 +/- 0.079\n",
      "delta_mu_N3982 = 2.342 +/- 0.083\n",
      "delta_mu_N4038 = 1.886 +/- 0.125\n",
      "delta_mu_N4424 = 1.738 +/- 0.315\n",
      "delta_mu_N4536 = 1.523 +/- 0.060\n",
      "delta_mu_N4639 = 2.136 +/- 0.080\n",
      "delta_mu_N5584 = 2.378 +/- 0.051\n",
      "delta_mu_N5917 = 2.857 +/- 0.117\n",
      "delta_mu_N7250 = 2.069 +/- 0.093\n",
      "delta_mu_U9391 = 3.512 +/- 0.072\n"
     ]
    }
   ],
   "source": [
    "for i,name in enumerate(sn_host):\n",
    "    print(f\"delta_mu_{name} = {res[i]:.3f} +/- {err_fit[i]:.3f}\")"
   ]
  },
  {
   "cell_type": "code",
   "execution_count": 17,
   "metadata": {},
   "outputs": [
    {
     "data": {
      "image/png": "[encoded data removed]",
      "text/plain": [
       "<Figure size 432x288 with 1 Axes>"
      ]
     },
     "metadata": {
      "needs_background": "light"
     },
     "output_type": "display_data"
    }
   ],
   "source": [
    "plt.figure(figsize=(6,4))\n",
    "\n",
    "mu_mu4258_R = np.array([data_sn_R16[data_sn_R16['Gal']==name]['mu_i'][0] - mu_N4258   for name in sn_host])\n",
    "mu_mu4258_fit = res[:len(sn_host)]\n",
    "\n",
    "errors = err_fit[:len(sn_host)]\n",
    "plt.errorbar(mu_mu4258_R,\n",
    "          mu_mu4258_fit ,\n",
    "          yerr=errors,marker='o',ls='None')\n",
    "plt.plot([-1,4],[-1,4])\n",
    "plt.show()"
   ]
  },
  {
   "cell_type": "code",
   "execution_count": 18,
   "metadata": {
    "scrolled": true
   },
   "outputs": [
    {
     "data": {
      "image/png": "[encoded data removed]",
      "text/plain": [
       "<Figure size 1440x360 with 1 Axes>"
      ]
     },
     "metadata": {
      "needs_background": "light"
     },
     "output_type": "display_data"
    }
   ],
   "source": [
    "plt.figure(figsize=(20,5))\n",
    "mu_mu4258_R = np.array([data_sn_R16[data_sn_R16['Gal']==name]['mu_i'][0] - mu_N4258 for name in sn_host])\n",
    "mu_mu4258_fit = res[:len(sn_host)]\n",
    "\n",
    "errors = err_fit[:len(sn_host)]\n",
    "plt.errorbar(np.arange(len(sn_host)),\n",
    "           mu_mu4258_R - mu_mu4258_fit ,\n",
    "          yerr=errors,marker='o',ls='None')\n",
    "plt.hlines(0,*xlim(),color='r')\n",
    "plt.xticks(np.arange(len(sn_host)), sn_host)\n",
    "plt.ylabel('$\\Delta \\mu$')\n",
    "plt.show()"
   ]
  },
  {
   "cell_type": "code",
   "execution_count": 19,
   "metadata": {},
   "outputs": [
    {
     "name": "stdout",
     "output_type": "stream",
     "text": [
      "mag+5a\n",
      "------\n",
      " 13.31\n",
      "17.015\n",
      "16.756\n",
      "15.482\n",
      "15.765\n",
      " 15.84\n",
      "16.527\n",
      "16.476\n",
      "16.265\n",
      "16.048\n",
      "15.795\n",
      "15.797\n",
      " 15.11\n",
      "15.177\n",
      "15.983\n",
      "16.265\n",
      "16.572\n",
      "15.867\n",
      "17.034\n",
      "[-0.17371801  3.06293843  3.10665416  1.93024379  1.92521474  2.1443888\n",
      "  3.13003975  2.67286461  2.52576356  2.24208267  2.34207991  1.88562869\n",
      "  1.73810282  1.52259656  2.13589482  2.37842897  2.856925    2.06926588\n",
      "  3.51171533]\n",
      "[-0.252  3.11   3.136  1.92   1.924  2.124  3.111  2.685  2.521  2.2\n",
      "  2.35   1.903  1.693  1.519  2.145  2.399  2.876  2.112  3.532]\n"
     ]
    }
   ],
   "source": [
    "mB_R = data_sn_R16['mag+5a'][:]\n",
    "print(mB_R)\n",
    "print(mu_mu4258_fit)\n",
    "print(mu_mu4258_R)\n",
    "sig_mB = data_sn_R16['sig_mag+5a'][:]\n",
    "mB_N4258 = numpy.sum((mB_R-mu_mu4258_fit)/(sig_mB**2.+errors**2.))/numpy.sum(1./(sig_mB**2.+errors**2.))\n",
    "sig_mB_N4258= numpy.sqrt(1./numpy.sum(1./(sig_mB**2.+errors**2.)))"
   ]
  },
  {
   "cell_type": "code",
   "execution_count": 20,
   "metadata": {},
   "outputs": [
    {
     "name": "stdout",
     "output_type": "stream",
     "text": [
      "The Hubble constant is 72.89 +/- 2.20 km/s/Mpc\n"
     ]
    }
   ],
   "source": [
    "H0= 10**(0.2*(mB_N4258-mu_N4258+25.))\n",
    "H0unc= H0*0.2*numpy.log(10.)*numpy.sqrt(sig_mB_N4258**2.+sig_mu_N4258**2.)\n",
    "print(\"The Hubble constant is {:.2f} +/- {:.2f} km/s/Mpc\"\\\n",
    "          .format(H0,H0unc))"
   ]
  },
  {
   "cell_type": "code",
   "execution_count": 65,
   "metadata": {},
   "outputs": [],
   "source": [
    "def chi2_woM31(q):\n",
    "    C_new = C + np.exp(q[-1])\n",
    "    C_inv_new = np.linalg.inv(C_new)\n",
    "    return (y-L @ q[:-1]).T @ C_inv_new @ (y-L.dot(q[:-1]))"
   ]
  },
  {
   "cell_type": "code",
   "execution_count": null,
   "metadata": {},
   "outputs": [],
   "source": []
  },
  {
   "cell_type": "code",
   "execution_count": 72,
   "metadata": {},
   "outputs": [
    {
     "name": "stdout",
     "output_type": "stream",
     "text": [
      "23\n"
     ]
    }
   ],
   "source": [
    "names = np.concatenate((np.array([n for n in sn_host]),np.array(['zpw4258', 'bw', 'Zw','lnV'])))\n",
    "print(len(names))\n",
    "limits = [None,None,None,None,None,None,None,None,None,None,None,None,None,None,None,None,None,None,None,None,None,None,(-10,10)]\n",
    "chimin_woM31 = Minuit.from_array_func(chi2_woM31, concatenate((res,[0.02])), errordef = 1, error=0.001, name=names, limit=limits)"
   ]
  },
  {
   "cell_type": "code",
   "execution_count": 74,
   "metadata": {},
   "outputs": [
    {
     "name": "stdout",
     "output_type": "stream",
     "text": [
      "---------------------------------------------------------------------------------------------\n",
      "|   | Name    |   Value   | Hesse Err | Minos Err- | Minos Err+ | Limit-  | Limit+  | Fixed |\n",
      "---------------------------------------------------------------------------------------------\n",
      "| 0 | M101    |   -0.17   |   0.04    |   -0.04    |    0.04    |         |         |       |\n",
      "| 1 | N1015   |   3.06    |   0.10    |   -0.10    |    0.10    |         |         |       |\n",
      "| 2 | N1309   |   3.11    |   0.06    |   -0.06    |    0.06    |         |         |       |\n",
      "| 3 | N1365   |   1.93    |   0.07    |   -0.07    |    0.07    |         |         |       |\n",
      "| 4 | N1448   |   1.93    |   0.05    |   -0.05    |    0.05    |         |         |       |\n",
      "| 5 | N2442   |   2.14    |   0.05    |   -0.05    |    0.05    |         |         |       |\n",
      "| 6 | N3021   |   3.13    |   0.10    |   -0.10    |    0.10    |         |         |       |\n",
      "| 7 | N3370   |   2.67    |   0.05    |   -0.05    |    0.05    |         |         |       |\n",
      "| 8 | N3447   |   2.53    |   0.05    |   -0.05    |    0.05    |         |         |       |\n",
      "| 9 | N3972   |   2.24    |   0.08    |   -0.08    |    0.08    |         |         |       |\n",
      "| 10| N3982   |   2.34    |   0.08    |   -0.08    |    0.08    |         |         |       |\n",
      "| 11| N4038   |   1.89    |   0.12    |   -0.12    |    0.12    |         |         |       |\n",
      "| 12| N4424   |   1.74    |   0.31    |   -0.31    |    0.32    |         |         |       |\n",
      "| 13| N4536   |   1.52    |   0.06    |   -0.06    |    0.06    |         |         |       |\n",
      "| 14| N4639   |   2.14    |   0.08    |   -0.08    |    0.08    |         |         |       |\n",
      "| 15| N5584   |   2.38    |   0.05    |   -0.05    |    0.05    |         |         |       |\n",
      "| 16| N5917   |   2.86    |   0.12    |   -0.12    |    0.12    |         |         |       |\n",
      "| 17| N7250   |   2.07    |   0.09    |   -0.09    |    0.09    |         |         |       |\n",
      "| 18| U9391   |   3.51    |   0.07    |   -0.07    |    0.07    |         |         |       |\n",
      "| 19| zpw4258 |  0.03e3   |  0.14e3   |  -0.14e3   |   0.15e3   |         |         |       |\n",
      "| 20| bw      |   -3.06   |   0.05    |   -0.05    |    0.05    |         |         |       |\n",
      "| 21| Zw      |   -0.21   |   0.09    |   -0.09    |    0.09    |         |         |       |\n",
      "| 22| lnV     |    10     |    19     |    -19     |     19     |   -10   |   10    |       |\n",
      "---------------------------------------------------------------------------------------------\n",
      "chi2=0.857364575719581\n"
     ]
    }
   ],
   "source": [
    "chimin_woM31.migrad()\n",
    "chimin_woM31.hesse()\n",
    "chimin_woM31.minos()\n",
    "print(chimin_woM31.params)\n",
    "print(f'chi2={chimin_woM31.fval/(np.size(y)-np.size(res))}')"
   ]
  },
  {
   "cell_type": "markdown",
   "metadata": {},
   "source": [
    "### Fit with one anchor : NGC 4258 "
   ]
  },
  {
   "cell_type": "markdown",
   "metadata": {},
   "source": [
    "#### Simple slop"
   ]
  },
  {
   "cell_type": "code",
   "execution_count": null,
   "metadata": {
    "scrolled": false
   },
   "outputs": [],
   "source": [
    "#res = mu_i-mu_4258, mu_M31-mu_4258, zpw4258, bw, Zw, m_4258\n",
    "n_params = 5\n",
    "\n",
    "############################\n",
    "#SN HOST CEPHEIDS and SN Ia#\n",
    "############################\n",
    "n_ceph_by_host = [len(data_cephe[data_cephe['Gal']== host]) for host in sn_host]\n",
    "n_ceph = np.sum(n_ceph_by_host)\n",
    "n_ceph_cumsum = np.concatenate(([0],np.cumsum(n_ceph_by_host)))\n",
    "n_sn = len(sn_host)\n",
    "L_ceph = np.zeros((n_ceph,n_sn+n_params))\n",
    "L_sn = np.zeros((n_sn,n_sn+n_params))\n",
    "y_ceph=np.zeros(n_ceph)\n",
    "y_sn = np.zeros(n_sn)\n",
    "cov_ceph=np.zeros(n_ceph)\n",
    "cov_sn=np.zeros(n_sn)\n",
    "\n",
    "for i,host in enumerate(sn_host):\n",
    "    selec_ceph = data_cephe[data_cephe['Gal']== host]\n",
    "    \n",
    "    n_ceph_host = n_ceph_by_host[i]\n",
    "    L_ceph[n_ceph_cumsum[i]:n_ceph_cumsum[i+1],i] = 1\n",
    "    L_ceph[n_ceph_cumsum[i]:n_ceph_cumsum[i+1],-4] = 1\n",
    "    L_ceph[n_ceph_cumsum[i]:n_ceph_cumsum[i+1],-3] = np.log10(selec_ceph['Per'])\n",
    "    L_ceph[n_ceph_cumsum[i]:n_ceph_cumsum[i+1],-2] = selec_ceph['[O/H]'] - 8.66\n",
    "    \n",
    "    L_sn[i,i] = 1 \n",
    "    L_sn[i,-1] = 1\n",
    "    \n",
    "    y_ceph[n_ceph_cumsum[i]:n_ceph_cumsum[i+1]]= selec_ceph['mw']\n",
    "    y_sn[i] = data_sn_R16[data_sn_R16['Gal'] == host]['mB'] \n",
    "    \n",
    "    cov_ceph[n_ceph_cumsum[i]:n_ceph_cumsum[i+1]] = pw(selec_ceph['sigTot'],2)\n",
    "    cov_sn[i] = pw(data_sn_R16[data_sn_R16['Gal'] == host]['sig_mB'],2) \n",
    "\n",
    "###################\n",
    "#NGC 4258 CEPHEIDS#\n",
    "###################\n",
    "selec_ceph = data_cephe[data_cephe['Gal'] == 'N4258']\n",
    "n_4258 = len(selec_ceph)\n",
    "L_4258 = np.zeros((n_4258,n_sn+n_params))\n",
    "L_4258[:,-4] = 1\n",
    "L_4258[:,-3] = np.log10(selec_ceph['Per'])\n",
    "L_4258[:,-2] = selec_ceph['[O/H]'] - 8.66\n",
    "\n",
    "y_4258 = selec_ceph['mw']\n",
    "cov_4258 = pw(selec_ceph['sigTot'],2) \n",
    "\n",
    "##############\n",
    "#M31 CEPHEIDS#\n",
    "##############\n",
    "selec_ceph = data_cephe[data_cephe['Gal'] == 'M31']\n",
    "n_M31 = len(selec_ceph)\n",
    "L_M31 = np.zeros((n_M31,n_sn+n_params))\n",
    "L_M31[:,-5] = 1\n",
    "L_M31[:,-4] = 1\n",
    "L_M31[:,-3] = np.log10(selec_ceph['Per'])\n",
    "L_M31[:,-2] = selec_ceph['[O/H]'] - 8.66\n",
    "y_M31 = selec_ceph['mw']\n",
    "cov_M31 = pw(selec_ceph['sigTot'],2) "
   ]
  },
  {
   "cell_type": "code",
   "execution_count": null,
   "metadata": {
    "scrolled": false
   },
   "outputs": [],
   "source": [
    "L = np.concatenate((L_ceph, L_4258, L_M31, L_sn))\n",
    "y = np.concatenate((y_ceph, y_4258, y_M31, y_sn))\n",
    "C = np.diag(np.concatenate((cov_ceph, cov_4258, cov_M31, cov_sn)))\n",
    "print(f\"nbr cepheids = {len(y_ceph)+len(y_4258)+len(y_M31)}\")"
   ]
  },
  {
   "cell_type": "markdown",
   "metadata": {},
   "source": [
    "##### Fisher solution"
   ]
  },
  {
   "cell_type": "code",
   "execution_count": null,
   "metadata": {},
   "outputs": [],
   "source": [
    "C_inv = np.linalg.inv(C)\n",
    "cov_res = np.linalg.inv(L.T @ C_inv @ L)\n",
    "res = cov_res @ L.T @ C_inv @ y"
   ]
  },
  {
   "cell_type": "code",
   "execution_count": null,
   "metadata": {},
   "outputs": [],
   "source": [
    "print(res)\n",
    "print(np.sqrt(np.diag(cov_res)))"
   ]
  },
  {
   "cell_type": "code",
   "execution_count": null,
   "metadata": {
    "scrolled": true
   },
   "outputs": [],
   "source": [
    "log_H0 = (res[-1]-mu_N4258+5*av+25)/5\n",
    "sigma_log_H0 = np.sqrt(25*pw(sigma_av,2)+pw(sigma_mu_N4258,2)+cov_res[-1,-1])/5\n",
    "H0 = pw(10,log_H0)\n",
    "sigma_H0 = np.log(10)*H0*sigma_log_H0\n",
    "print(f\"logH0 = {log_H0} +/- {sigma_log_H0}\")\n",
    "print(f\"H0 = {H0} +/- {sigma_H0}\")"
   ]
  },
  {
   "cell_type": "markdown",
   "metadata": {},
   "source": [
    "##### Minuit $\\chi^2$ minimization"
   ]
  },
  {
   "cell_type": "code",
   "execution_count": null,
   "metadata": {},
   "outputs": [],
   "source": [
    "def chi2_simp(q):\n",
    "    return (y-L @ q).T @ C_inv @ (y-L.dot(q))"
   ]
  },
  {
   "cell_type": "code",
   "execution_count": null,
   "metadata": {},
   "outputs": [],
   "source": [
    "names = np.concatenate((np.array([n for n in sn_host]),np.array(['mu_M31-mu_4248', 'zpw4258', 'bw', 'Zw', 'm_4258'])))\n",
    "chimin_simp = Minuit.from_array_func(chi2_simp, res, errordef = 1, error=0.001, name=names)"
   ]
  },
  {
   "cell_type": "code",
   "execution_count": null,
   "metadata": {},
   "outputs": [],
   "source": [
    "chimin_simp.migrad()\n",
    "chimin_simp.hesse()\n",
    "chimin_simp.minos()\n",
    "print(chimin_simp.params)\n",
    "print(f'chi2={chimin_simp.fval/(np.size(y)-np.size(res))}')"
   ]
  },
  {
   "cell_type": "code",
   "execution_count": null,
   "metadata": {},
   "outputs": [],
   "source": [
    "log_H0 = (chimin_simp.np_values()[-1]-mu_N4258+5*aB+25)/5\n",
    "sigma_log_H0 = np.sqrt(25*pw(sigma_aB,2)+pw(sigma_mu_N4258,2)+cov_res[-1,-1])/5\n",
    "H0 = pw(10,log_H0)\n",
    "sigma_H0 = np.log(10)*pw(10,log_H0)*sigma_log_H0\n",
    "print(f\"logH0 = {log_H0} +/- {sigma_log_H0}\")\n",
    "print(f\"H0 = {H0} +/- {sigma_H0}\")"
   ]
  },
  {
   "cell_type": "markdown",
   "metadata": {},
   "source": [
    "##### Fit results plot"
   ]
  },
  {
   "cell_type": "code",
   "execution_count": null,
   "metadata": {
    "scrolled": true
   },
   "outputs": [],
   "source": [
    "mu_mu4258_fit = chimin_simp.np_values()[:len(sn_host)]\n",
    "zp = chimin_simp.np_values()[-4]\n",
    "bw = chimin_simp.np_values()[-3]\n",
    "zw = chimin_simp.np_values()[-2]\n",
    "for host,i in zip(sn_host,np.arange(len(sn_host))):\n",
    "    cephe_list = data_cephe[data_cephe['Gal']== host]\n",
    "    plt.figure()\n",
    "    plt.title(host)\n",
    "    plt.errorbar(cephe_list['Per'], cephe_list['mw'],yerr=cephe_list['sigTot'],fmt='.')\n",
    "    p = np.linspace(np.min(cephe_list['Per'])-1,np.max(cephe_list['Per'])+1,1000)\n",
    "    plt.plot(p,mu_mu4258_fit[i]+zp+bw*np.log10(p)+zw*np.mean(cephe_list['[O/H]']-8.66))\n",
    "    plt.gca().invert_yaxis()\n",
    "    plt.xscale('log')\n",
    "    plt.xlabel('logP')\n",
    "    plt.ylabel('mw')\n",
    "plt.show()"
   ]
  },
  {
   "cell_type": "code",
   "execution_count": null,
   "metadata": {},
   "outputs": [],
   "source": [
    "plt.figure(figsize=(20,4))\n",
    "gals= set(data_sn_R16['Gal'])\n",
    "mu_mu4258_R = np.array([data_sn_R16[data_sn_R16['Gal']==name]['mu_i'][0] - 29.387 for name in gals])\n",
    "mu_mu4258_fit = chimin_simp.np_values()[:len(sn_host)]\n",
    "\n",
    "err_fit = chimin_simp.np_errors()[:len(sn_host)]\n",
    "plt.errorbar(np.arange(len(gals)),\n",
    "          mu_mu4258_fit - mu_mu4258_R,\n",
    "          yerr=err_fit,marker='o',ls='None')\n",
    "plt.hlines(0,*xlim(),color='r')\n",
    "plt.xticks(np.arange(len(gals)), gals)\n",
    "plt.show()"
   ]
  },
  {
   "cell_type": "markdown",
   "metadata": {},
   "source": [
    "#### Double slop"
   ]
  },
  {
   "cell_type": "code",
   "execution_count": null,
   "metadata": {
    "scrolled": false
   },
   "outputs": [],
   "source": [
    "#res = mu_i-mu_4258, mu_M31-mu_4258, zpw4258, bw, bl, Zw, m_4258\n",
    "n_params = 6\n",
    "\n",
    "############################\n",
    "#SN HOST CEPHEIDS and SN Ia#\n",
    "############################\n",
    "n_ceph_by_host = [len(data_cephe[data_cephe['Gal']== host]) for host in sn_host]\n",
    "n_ceph = np.sum(n_ceph_by_host)\n",
    "n_ceph_cumsum = np.concatenate(([0],np.cumsum(n_ceph_by_host)))\n",
    "n_sn = len(sn_host)\n",
    "L_ceph = np.zeros((n_ceph,n_sn+n_params))\n",
    "L_sn = np.zeros((n_sn,n_sn+n_params))\n",
    "y_ceph=np.zeros(n_ceph)\n",
    "y_sn = np.zeros(n_sn)\n",
    "cov_ceph=np.zeros(n_ceph)\n",
    "cov_sn=np.zeros(n_sn)\n",
    "\n",
    "for i,host in enumerate(sn_host):\n",
    "    selec_ceph = data_cephe[data_cephe['Gal'] == host]\n",
    "    P_sup10 = selec_ceph['Per'] > 10\n",
    "    P_inf10 = [not bool for bool in P_sup10]\n",
    "    L_ceph[n_ceph_cumsum[i]:n_ceph_cumsum[i+1],i] = 1\n",
    "    L_ceph[n_ceph_cumsum[i]:n_ceph_cumsum[i+1],-5] = 1\n",
    "    L_ceph[n_ceph_cumsum[i]:n_ceph_cumsum[i+1],-4] = np.log10(selec_ceph['Per'])*P_sup10\n",
    "    L_ceph[n_ceph_cumsum[i]:n_ceph_cumsum[i+1],-3] = np.log10(selec_ceph['Per'])*P_inf10\n",
    "    L_ceph[n_ceph_cumsum[i]:n_ceph_cumsum[i+1],-2] = selec_ceph['[O/H]'] - 8.9\n",
    " \n",
    "    L_sn[i,i] = 1\n",
    "    L_sn[i,-1] = 1\n",
    "    \n",
    "    y_ceph[n_ceph_cumsum[i]:n_ceph_cumsum[i+1]] = selec_ceph['mw']\n",
    "    y_sn[i] = data_sn_R16[data_sn_R16['Gal'] == host]['mB']\n",
    "    \n",
    "    cov_ceph[n_ceph_cumsum[i]:n_ceph_cumsum[i+1]] = pw(selec_ceph['sigTot'],2)\n",
    "    cov_sn[i] = pw(data_sn_R16[data_sn_R16['Gal'] == host]['sig_mB'],2)\n",
    "\n",
    "###################\n",
    "#NGC 4258 CEPHEIDS#\n",
    "###################\n",
    "selec_ceph = data_cephe[data_cephe['Gal'] == 'N4258']\n",
    "n_4258 = len(selec_ceph)\n",
    "L_4258 = np.zeros((n_4258,n_sn+n_params))\n",
    "P_sup10 = selec_ceph['Per'] > 10\n",
    "P_inf10 = [not bool for bool in P_sup10]\n",
    "L_4258[:,-5] = 1\n",
    "L_4258[:,-4] = np.log10(selec_ceph['Per'])*P_sup10\n",
    "L_4258[:,-3] = np.log10(selec_ceph['Per'])*P_inf10\n",
    "L_4258[:,-2] = selec_ceph['[O/H]'] - 8.66\n",
    "\n",
    "y_4258 = selec_ceph['mw']\n",
    "cov_4258 = pw(selec_ceph['sigTot'],2)\n",
    "  \n",
    "##############\n",
    "#M31 CEPHEIDS#\n",
    "##############\n",
    "selec_ceph = data_cephe[data_cephe['Gal'] == 'M31']\n",
    "n_M31 = len(selec_ceph)\n",
    "L_M31 = np.zeros((n_M31,n_sn+n_params))\n",
    "P_sup10 = selec_ceph['Per'] > 10\n",
    "P_inf10 = [not bool for bool in P_sup10]\n",
    "L_M31[:,-6] = 1\n",
    "L_M31[:,-5] = 1\n",
    "L_M31[:,-4] = np.log10(selec_ceph['Per'])*P_sup10\n",
    "L_M31[:,-3] = np.log10(selec_ceph['Per'])*P_inf10\n",
    "L_M31[:,-2] = selec_ceph['[O/H]'] - 8.66\n",
    "\n",
    "y_M31 = selec_ceph['mw']\n",
    "cov_M31 = pw(selec_ceph['sigTot'],2)\n",
    "\n"
   ]
  },
  {
   "cell_type": "code",
   "execution_count": null,
   "metadata": {},
   "outputs": [],
   "source": [
    "L = np.concatenate((L_ceph, L_4258, L_M31, L_sn))\n",
    "y = np.concatenate((y_ceph, y_4258, y_M31, y_sn))\n",
    "C = np.diag(np.concatenate((cov_ceph, cov_4258, cov_M31, cov_sn)))"
   ]
  },
  {
   "cell_type": "markdown",
   "metadata": {},
   "source": [
    "##### Fisher solution"
   ]
  },
  {
   "cell_type": "code",
   "execution_count": null,
   "metadata": {},
   "outputs": [],
   "source": [
    "C_inv = np.linalg.inv(C)\n",
    "cov_res = np.linalg.inv(L.T @ C_inv @ L)\n",
    "res = cov_res @ L.T @ C_inv @ y\n",
    "\n",
    "chi2 = ((y-L @ res).T @ C_inv @ (y-L @ res))/(np.size(y)-np.size(res))"
   ]
  },
  {
   "cell_type": "code",
   "execution_count": null,
   "metadata": {},
   "outputs": [],
   "source": [
    "print(res)\n",
    "print(f'chi2 = {chi2}')"
   ]
  },
  {
   "cell_type": "code",
   "execution_count": null,
   "metadata": {
    "scrolled": true
   },
   "outputs": [],
   "source": [
    "log_H0 = (res[-1]-mu_N4258+5*av+25)/5\n",
    "sigma_log_H0 = np.sqrt(25*pw(sigma_av,2)+pw(sigma_mu_N4258,2)+cov_res[-1,-1])/5\n",
    "H0 = pw(10,log_H0)\n",
    "sigma_H0 = np.log(10)*pw(10,log_H0)*sigma_log_H0\n",
    "print(f\"logH0 = {log_H0} +/- {sigma_log_H0}\")\n",
    "print(f\"H0 = {H0} +/- {sigma_H0}\")"
   ]
  },
  {
   "cell_type": "markdown",
   "metadata": {},
   "source": [
    "##### Minuit $\\chi^2$ minimization"
   ]
  },
  {
   "cell_type": "code",
   "execution_count": null,
   "metadata": {},
   "outputs": [],
   "source": [
    "def chi2_doub(q):\n",
    "    return (y-L @ q).T @ C_inv @ (y-L.dot(q))"
   ]
  },
  {
   "cell_type": "code",
   "execution_count": null,
   "metadata": {},
   "outputs": [],
   "source": [
    "names = np.concatenate((np.array([\"mu_{}_muN4258\".format(n) for n in sn_host]),np.array(['mu_M31-mu_4248', 'zpw4258', 'bw', 'bl', 'Zw', 'm_4258'])))\n",
    "chimin_doub = Minuit.from_array_func(chi2_simp, res, errordef = 1, error=0.001, name=names)"
   ]
  },
  {
   "cell_type": "code",
   "execution_count": null,
   "metadata": {},
   "outputs": [],
   "source": [
    "chimin_doub.migrad()\n",
    "chimin_doub.hesse()\n",
    "chimin_doub.minos()\n",
    "print(chimin_doub.params)\n",
    "print(f'chi2={chimin_doub.fval/(np.size(y)-np.size(res))}')"
   ]
  },
  {
   "cell_type": "code",
   "execution_count": null,
   "metadata": {
    "scrolled": true
   },
   "outputs": [],
   "source": [
    "log_H0 = (chimin_doub.np_values()[-1]-mu_N4258+5*aB+25.)/5.\n",
    "sigma_log_H0 = np.sqrt(25*pw(sigma_av,2)+pw(sigma_mu_N4258,2)+cov_res[-2,-2])/5\n",
    "H0 = pw(10,log_H0)\n",
    "sigma_H0 = np.log(10)*pw(10,log_H0)*sigma_log_H0\n",
    "print(f\"logH0 = {log_H0} +/- {sigma_log_H0}\")\n",
    "print(f\"H0 = {H0} +/- {sigma_H0}\")"
   ]
  },
  {
   "cell_type": "markdown",
   "metadata": {},
   "source": [
    "#### Fit results plot"
   ]
  },
  {
   "cell_type": "code",
   "execution_count": null,
   "metadata": {
    "scrolled": false
   },
   "outputs": [],
   "source": [
    "mu_mu4258_fit = res[:n_sn]\n",
    "zp = res[-5]\n",
    "bw = res[-4]\n",
    "zw = res[-2]\n",
    "for host,i in zip(sn_host,np.arange(len(sn_host))):\n",
    "    cephe_list = data_cephe[data_cephe['Field'] == host]\n",
    "    plt.figure()\n",
    "    plt.title(host)\n",
    "    plt.errorbar(cephe_list['Per'], cephe_list['F160W']-R*cephe_list['F555W-F814W'],yerr=cephe_list['sigma_tot'],fmt='.')\n",
    "    p = np.linspace(np.min(cephe_list['Per'])-1,np.max(cephe_list['Per'])+1,1000)\n",
    "    plt.plot(p,mu_mu4258_fit[i]+zp+bw*np.log10(p)+zw*(np.mean(cephe_list['[O/H]'])))\n",
    "    plt.gca().invert_yaxis()\n",
    "    plt.xscale('log')\n",
    "    plt.xlabel('logP')\n",
    "    plt.ylabel('mw')\n",
    "cephe_list = data_cephe[data_cephe['Field'] == b'M31']\n",
    "plt.figure()\n",
    "plt.title('M31')\n",
    "plt.errorbar(cephe_list['Per'], cephe_list['F160W']-R*cephe_list['F555W-F814W'],yerr=cephe_list['sigma_tot'],fmt='.')\n",
    "p = np.linspace(np.min(cephe_list['Per'])-1,np.max(cephe_list['Per'])+1,1000)\n",
    "plt.plot(p,res[-6]+bw*np.log10(p)+zw*(np.mean(cephe_list['[O/H]'])))\n",
    "plt.gca().invert_yaxis()\n",
    "plt.xscale('log')\n",
    "plt.xlabel('logP')\n",
    "plt.ylabel('mw')\n",
    "plt.show()"
   ]
  },
  {
   "cell_type": "markdown",
   "metadata": {},
   "source": [
    "## Fit with 3 anchors - Work in progress"
   ]
  },
  {
   "cell_type": "code",
   "execution_count": null,
   "metadata": {},
   "outputs": [],
   "source": [
    "#res = mu_i, Delta_mu4258, MW_H, Delta_muLMC, mu_M31, bw, bl, MB0, Zw, Delta_zp\n",
    "n_params = 10\n",
    "\n",
    "########################\n",
    "#Ceph and SN in SN HOST#\n",
    "########################\n",
    "\n",
    "n_ceph_by_host = [len(data_cephe[data_cephe['Field']== host]) for host in sn_host]\n",
    "n_ceph = np.sum(n_ceph_by_host)\n",
    "n_ceph_cumsum = np.concatenate(([0],np.cumsum(n_ceph_by_host)))\n",
    "n_sn = len(sn_host)\n",
    "L_ceph = np.zeros((n_ceph,n_sn+n_params))\n",
    "L_sn = np.zeros((n_sn,n_sn+n_params))\n",
    "y_ceph=np.zeros(n_ceph)\n",
    "y_sn = np.zeros(n_sn)\n",
    "cov_ceph=np.zeros(n_ceph)\n",
    "cov_sn=np.zeros(n_sn)\n",
    "\n",
    "for i,host in enumerate(sn_host):\n",
    "    selec_ceph = data_cephe[data_cephe['Field'] == host]\n",
    "    P_sup10 = selec_ceph['Per'] > 10\n",
    "    P_inf10 = [not bool for bool in P_sup10]\n",
    "    L_ceph[n_ceph_cumsum[i]:n_ceph_cumsum[i+1],i] = 1\n",
    "    L_ceph[n_ceph_cumsum[i]:n_ceph_cumsum[i+1],-8] = 1\n",
    "    L_ceph[n_ceph_cumsum[i]:n_ceph_cumsum[i+1],-5] = np.log10(selec_ceph['Per'])*P_sup10\n",
    "    L_ceph[n_ceph_cumsum[i]:n_ceph_cumsum[i+1],-4] = np.log10(selec_ceph['Per'])*P_inf10\n",
    "    L_ceph[n_ceph_cumsum[i]:n_ceph_cumsum[i+1],-2] = selec_ceph['[O/H]'] \n",
    " \n",
    "    L_sn[i,i] = 1\n",
    "    L_sn[i,-3] = 1\n",
    "    \n",
    "    y_ceph[n_ceph_cumsum[i]:n_ceph_cumsum[i+1]] = selec_ceph['F160W']-R*selec_ceph['F555W-F814W']\n",
    "    y_sn[i] = data_sn[data_sn['Field'] == host]['mag_5a'] - 5*av\n",
    "    \n",
    "    cov_ceph[n_ceph_cumsum[i]:n_ceph_cumsum[i+1]] = pw(selec_ceph['sigma_tot'],2)\n",
    "    cov_sn[i] = pw(data_sn[data_sn['Field'] == host]['sigma_mag_5a'],2)-25*pw(sigma_av,2)\n",
    "    \n",
    "y_4258 = selec_ceph['F160W']-R*selec_ceph['F555W-F814W']\n",
    "cov_4258 = pw(selec_ceph['sigma_tot'],2)\n"
   ]
  },
  {
   "cell_type": "code",
   "execution_count": null,
   "metadata": {},
   "outputs": [],
   "source": [
    "##################\n",
    "#Ceph in NGC 4258#\n",
    "##################\n",
    "\n",
    "selec_ceph = data_cephe[data_cephe['Field']== b'N4258']\n",
    "n_4258 = len(selec_ceph)\n",
    "L_4258 = np.zeros((n_4258,n_sn+n_params))\n",
    "P_sup10 = selec_ceph['Per'] > 10\n",
    "P_inf10 = [not bool for bool in P_sup10]\n",
    "L_4258[:,-9] = 1\n",
    "L_4258[:,-5] = np.log10(selec_ceph['Per'])*P_sup10\n",
    "L_4258[:,-4] = np.log10(selec_ceph['Per'])*P_inf10\n",
    "L_4258[:,-1] = selec_ceph['[O/H]'] \n",
    "\n",
    "y_4258 = selec_ceph['F160W']-R*selec_ceph['F555W-F814W']-mu_N4258\n",
    "cov_4258 = pw(selec_ceph['sigma_tot'],2)+pw(sigma_mu_N4258,2)"
   ]
  },
  {
   "cell_type": "code",
   "execution_count": null,
   "metadata": {},
   "outputs": [],
   "source": [
    "#############\n",
    "#Ceph in M31#\n",
    "#############\n",
    "\n",
    "selec_ceph = data_cephe[data_cephe['Field']== b'M31']\n",
    "n_M31 = len(selec_ceph)\n",
    "L_M31 = np.zeros((n_M31,n_sn+n_params))\n",
    "P_sup10 = selec_ceph['Per'] > 10\n",
    "P_inf10 = [not bool for bool in P_sup10]\n",
    "L_M31[:,-6] = 1\n",
    "L_M31[:,-8] = 1\n",
    "L_M31[:,-5] = np.log10(selec_ceph['Per'])*P_sup10\n",
    "L_M31[:,-4] = np.log10(selec_ceph['Per'])*P_inf10\n",
    "L_M31[:,-2] = selec_ceph['[O/H]'] \n",
    "\n",
    "y_M31 = selec_ceph['F160W']-R*selec_ceph['F555W-F814W']\n",
    "cov_M31 = pw(selec_ceph['sigma_tot'],2)\n",
    "\n",
    "\n",
    "L = np.concatenate((L_ceph,L_sn),axis=0)\n",
    "y = np.concatenate((y_ceph,y_sn))\n",
    "C = np.diag(np.concatenate((cov_ceph,cov_sn)))"
   ]
  },
  {
   "cell_type": "code",
   "execution_count": null,
   "metadata": {},
   "outputs": [],
   "source": [
    "############\n",
    "#Ceph in MW#\n",
    "############\n",
    "\n",
    "selec_ceph = data_cephe[data_cephe['Field']== b'MW']\n",
    "n_MW = len(selec_ceph)\n",
    "L_MW = np.zeros((n_MW,n_sn+n_params))\n",
    "P_sup10 = selec_ceph['Per'] > 10\n",
    "P_inf10 = [not bool for bool in P_sup10]\n",
    "L_MW[:,-6] = 1\n",
    "L_MW[:,-8] = 1\n",
    "L_MW[:,-5] = np.log10(selec_ceph['Per'])*P_sup10\n",
    "L_MW[:,-4] = np.log10(selec_ceph['Per'])*P_inf10\n",
    "L_MW[:,-2] = selec_ceph['[O/H]'] \n",
    "\n",
    "y_MW = selec_ceph['F160W']-R*selec_ceph['F555W-F814W']\n",
    "cov_MW = pw(selec_ceph['sigma_tot'],2)\n"
   ]
  }
 ],
 "metadata": {
  "kernelspec": {
   "display_name": "Python 3",
   "language": "python",
   "name": "python3"
  },
  "language_info": {
   "codemirror_mode": {
    "name": "ipython",
    "version": 3
   },
   "file_extension": ".py",
   "mimetype": "text/x-python",
   "name": "python",
   "nbconvert_exporter": "python",
   "pygments_lexer": "ipython3",
   "version": "3.8.5"
  }
 },
 "nbformat": 4,
 "nbformat_minor": 2
}
