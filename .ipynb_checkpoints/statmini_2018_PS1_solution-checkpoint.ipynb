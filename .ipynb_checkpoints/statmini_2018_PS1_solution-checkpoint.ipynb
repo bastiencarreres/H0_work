{
 "cells": [
  {
   "cell_type": "code",
   "execution_count": 1,
   "metadata": {},
   "outputs": [
    {
     "name": "stdout",
     "output_type": "stream",
     "text": [
      "Populating the interactive namespace from numpy and matplotlib\n"
     ]
    }
   ],
   "source": [
    "import numpy\n",
    "from astropy.io.ascii import read as apyread\n",
    "%pylab inline"
   ]
  },
  {
   "cell_type": "markdown",
   "metadata": {},
   "source": [
    "# Statistics Mini-course Problem Set: solution\n",
    "\n",
    "The following is a partial solution to the [problem set](http://astro.utoronto.ca/~bovy/statminicourse-2018/assignment1.pdf) for the 2018 Mini-course on ``Statistics and Inference in Astrophysics'' at the University of Toronto.\n",
    "\n",
    "## Problem 4\n",
    "\n",
    "*Using the data for Cepheids in the other galaxies we will fit Equation (3). We assume that the parameters of the Leavitt law ($\\mathrm{zp}_{W,\\mathrm{N4258}}$, $b_W$ , $Z_w$, $V$) are the same for all galaxies (we will again assume intrinsic scatter and assume that it is the same in all galaxies). What are the model parameters? Given what we have done so far, what are good priors for ($\\mathrm{zp}_{W,\\mathrm{N4258}}$, $b_W$ , $Z_w$, $V$)? Given that we have many parameters, emcee might not work too well, so we will use ``stan`` (e.g., through its Python interface ``PyStan``) to fit and sample this model. Make diagnostic plots of the MCMC chain returned by stan. The main output that we are looking for are the relative distance moduli (μ−μN4258)j. Using the distance modulus of NGC 4258 from point 1) above, compare your distance moduli to those from Table 5 of [Riess et al. (2016)](http://adsabs.harvard.edu/abs/2016ApJ...826...56R)*.\n",
    "\n",
    "First we read the data, using ``astropy.io.ascii.read``:"
   ]
  },
  {
   "cell_type": "code",
   "execution_count": 4,
   "metadata": {
    "scrolled": false
   },
   "outputs": [
    {
     "name": "stderr",
     "output_type": "stream",
     "text": [
      "WARNING: UnitsWarning: '[-]' did not parse as cds unit: Invalid character at col 1 If this is meant to be a custom unit, define it with 'u.def_unit'. To have it recognized inside a file reader or other code, enable it with 'u.add_enabled_units'. For details, see https://docs.astropy.org/en/latest/units/combining_and_defining.html [astropy.units.core]\n"
     ]
    }
   ],
   "source": [
    "data= apyread('./Cepheids data/table4.dat',readme='./Cepheids data/zzz_ReadMe')"
   ]
  },
  {
   "cell_type": "markdown",
   "metadata": {},
   "source": [
    "This returns a ``Table`` object:"
   ]
  },
  {
   "cell_type": "code",
   "execution_count": 5,
   "metadata": {},
   "outputs": [
    {
     "data": {
      "text/html": [
       "<i>Table length=1486</i>\n",
       "<table id=\"table140418997158096\" class=\"table-striped table-bordered table-condensed\">\n",
       "<thead><tr><th>Gal</th><th>RAdeg</th><th>DEdeg</th><th>ID</th><th>Per</th><th>V-I</th><th>F160W</th><th>sigTot</th><th>[O/H]</th></tr></thead>\n",
       "<thead><tr><th></th><th>deg</th><th>deg</th><th></th><th>d</th><th>mag</th><th>mag</th><th>mag</th><th>[-]</th></tr></thead>\n",
       "<thead><tr><th>str5</th><th>float64</th><th>float64</th><th>str8</th><th>float64</th><th>float64</th><th>float64</th><th>float64</th><th>float64</th></tr></thead>\n",
       "<tr><td>M101</td><td>210.87979</td><td>54.33376</td><td>115287</td><td>17.95</td><td>0.96</td><td>22.47</td><td>0.3</td><td>9.134</td></tr>\n",
       "<tr><td>M101</td><td>210.89127</td><td>54.3562</td><td>136682</td><td>5.358</td><td>1.06</td><td>24.41</td><td>0.57</td><td>9.118</td></tr>\n",
       "<tr><td>M101</td><td>210.89227</td><td>54.36125</td><td>148312</td><td>11.86</td><td>1.07</td><td>22.94</td><td>0.32</td><td>9.113</td></tr>\n",
       "<tr><td>M101</td><td>210.89351</td><td>54.36826</td><td>164932</td><td>14.92</td><td>1.13</td><td>23.03</td><td>0.32</td><td>9.105</td></tr>\n",
       "<tr><td>M101</td><td>210.87982</td><td>54.33565</td><td>121146</td><td>11.86</td><td>0.96</td><td>23.14</td><td>0.45</td><td>9.136</td></tr>\n",
       "<tr><td>M101</td><td>210.89249</td><td>54.36142</td><td>147959</td><td>7.762</td><td>1.01</td><td>23.79</td><td>0.42</td><td>9.113</td></tr>\n",
       "<tr><td>M101</td><td>210.87549</td><td>54.34114</td><td>157556</td><td>25.57</td><td>1.14</td><td>22.75</td><td>0.19</td><td>9.148</td></tr>\n",
       "<tr><td>M101</td><td>210.88855</td><td>54.34493</td><td>112715</td><td>8.173</td><td>0.97</td><td>23.8</td><td>0.42</td><td>9.124</td></tr>\n",
       "<tr><td>M101</td><td>210.88664</td><td>54.34654</td><td>126118</td><td>6.969</td><td>0.83</td><td>23.84</td><td>0.43</td><td>9.129</td></tr>\n",
       "<tr><td>...</td><td>...</td><td>...</td><td>...</td><td>...</td><td>...</td><td>...</td><td>...</td><td>...</td></tr>\n",
       "<tr><td>M31</td><td>11.38113</td><td>41.85334</td><td>M31_ceph</td><td>31.61</td><td>1.56</td><td>17.45</td><td>0.15</td><td>8.9</td></tr>\n",
       "<tr><td>M31</td><td>11.67312</td><td>42.14743</td><td>M31_ceph</td><td>32.01</td><td>1.62</td><td>17.3</td><td>0.15</td><td>8.9</td></tr>\n",
       "<tr><td>M31</td><td>10.96825</td><td>41.59107</td><td>M31_ceph</td><td>32.66</td><td>1.63</td><td>17.17</td><td>0.15</td><td>8.9</td></tr>\n",
       "<tr><td>M31</td><td>11.09981</td><td>41.35337</td><td>M31_ceph</td><td>36.15</td><td>1.44</td><td>17.17</td><td>0.15</td><td>8.9</td></tr>\n",
       "<tr><td>M31</td><td>11.08632</td><td>41.33728</td><td>M31_ceph</td><td>41.22</td><td>2.29</td><td>17.2</td><td>0.15</td><td>8.9</td></tr>\n",
       "<tr><td>M31</td><td>10.92917</td><td>41.24755</td><td>M31_ceph</td><td>43.05</td><td>1.78</td><td>16.82</td><td>0.15</td><td>8.9</td></tr>\n",
       "<tr><td>M31</td><td>11.69675</td><td>42.08064</td><td>M31_ceph</td><td>43.74</td><td>1.5</td><td>16.97</td><td>0.15</td><td>8.9</td></tr>\n",
       "<tr><td>M31</td><td>11.2956</td><td>41.6041</td><td>M31_ceph</td><td>48.45</td><td>2.49</td><td>17.44</td><td>0.15</td><td>8.9</td></tr>\n",
       "<tr><td>M31</td><td>10.91809</td><td>41.18565</td><td>M31_ceph</td><td>56.24</td><td>2.07</td><td>17.03</td><td>0.15</td><td>8.9</td></tr>\n",
       "<tr><td>M31</td><td>11.06418</td><td>41.56925</td><td>M31_ceph</td><td>78.0</td><td>1.82</td><td>16.05</td><td>0.15</td><td>8.9</td></tr>\n",
       "</table>"
      ],
      "text/plain": [
       "<Table length=1486>\n",
       "Gal    RAdeg    DEdeg      ID      Per     V-I    F160W   sigTot  [O/H] \n",
       "        deg      deg                d      mag     mag     mag     [-]  \n",
       "str5  float64  float64    str8   float64 float64 float64 float64 float64\n",
       "---- --------- -------- -------- ------- ------- ------- ------- -------\n",
       "M101 210.87979 54.33376   115287   17.95    0.96   22.47     0.3   9.134\n",
       "M101 210.89127  54.3562   136682   5.358    1.06   24.41    0.57   9.118\n",
       "M101 210.89227 54.36125   148312   11.86    1.07   22.94    0.32   9.113\n",
       "M101 210.89351 54.36826   164932   14.92    1.13   23.03    0.32   9.105\n",
       "M101 210.87982 54.33565   121146   11.86    0.96   23.14    0.45   9.136\n",
       "M101 210.89249 54.36142   147959   7.762    1.01   23.79    0.42   9.113\n",
       "M101 210.87549 54.34114   157556   25.57    1.14   22.75    0.19   9.148\n",
       "M101 210.88855 54.34493   112715   8.173    0.97    23.8    0.42   9.124\n",
       "M101 210.88664 54.34654   126118   6.969    0.83   23.84    0.43   9.129\n",
       " ...       ...      ...      ...     ...     ...     ...     ...     ...\n",
       " M31  11.38113 41.85334 M31_ceph   31.61    1.56   17.45    0.15     8.9\n",
       " M31  11.67312 42.14743 M31_ceph   32.01    1.62    17.3    0.15     8.9\n",
       " M31  10.96825 41.59107 M31_ceph   32.66    1.63   17.17    0.15     8.9\n",
       " M31  11.09981 41.35337 M31_ceph   36.15    1.44   17.17    0.15     8.9\n",
       " M31  11.08632 41.33728 M31_ceph   41.22    2.29    17.2    0.15     8.9\n",
       " M31  10.92917 41.24755 M31_ceph   43.05    1.78   16.82    0.15     8.9\n",
       " M31  11.69675 42.08064 M31_ceph   43.74     1.5   16.97    0.15     8.9\n",
       " M31   11.2956  41.6041 M31_ceph   48.45    2.49   17.44    0.15     8.9\n",
       " M31  10.91809 41.18565 M31_ceph   56.24    2.07   17.03    0.15     8.9\n",
       " M31  11.06418 41.56925 M31_ceph    78.0    1.82   16.05    0.15     8.9"
      ]
     },
     "execution_count": 5,
     "metadata": {},
     "output_type": "execute_result"
    }
   ],
   "source": [
    "data"
   ]
  },
  {
   "cell_type": "markdown",
   "metadata": {},
   "source": [
    "Which galaxies are contained in this data file?"
   ]
  },
  {
   "cell_type": "code",
   "execution_count": 6,
   "metadata": {},
   "outputs": [
    {
     "name": "stdout",
     "output_type": "stream",
     "text": [
      "{'N3021', 'N3982', 'N2442', 'M31', 'N1448', 'N3447', 'N4536', 'N4639', 'N5917', 'N1365', 'M101', 'N7250', 'N3972', 'N4258', 'N3370', 'N1309', 'N4038', 'U9391', 'N4424', 'N1015', 'N5584'}\n"
     ]
    }
   ],
   "source": [
    "print(set(data['Gal']))"
   ]
  },
  {
   "cell_type": "markdown",
   "metadata": {},
   "source": [
    "We exclude M31:"
   ]
  },
  {
   "cell_type": "code",
   "execution_count": 7,
   "metadata": {},
   "outputs": [
    {
     "name": "stdout",
     "output_type": "stream",
     "text": [
      "Data set has 1114 Cepheids in 20 galaxies\n"
     ]
    }
   ],
   "source": [
    "data= data[data['Gal'] != 'M31']\n",
    "print(\"Data set has {} Cepheids in {} galaxies\".format(len(data),len(set(data['Gal']))))"
   ]
  },
  {
   "cell_type": "markdown",
   "metadata": {},
   "source": [
    "We add the Wesenheit magnitude (**Note: in the problem set, +0.39 instead of -0.39 was used accidentally; we'll use the correct equation here**):"
   ]
  },
  {
   "cell_type": "code",
   "execution_count": 8,
   "metadata": {},
   "outputs": [],
   "source": [
    "data['mW']= data['F160W']-0.39*data['V-I']"
   ]
  },
  {
   "cell_type": "markdown",
   "metadata": {},
   "source": [
    "and make sure the array is sorted by galaxy (which we rely upon below):"
   ]
  },
  {
   "cell_type": "code",
   "execution_count": 9,
   "metadata": {},
   "outputs": [],
   "source": [
    "data.sort('Gal')"
   ]
  },
  {
   "cell_type": "markdown",
   "metadata": {},
   "source": [
    "To access the data in ``stan`` below, we stack all of the different galaxies on top of each other, but because the distance modulus is the same for all Cepheids in a given galaxy and this will be a model parameter, we need to keep track of the number of Cepheids in each galaxy and the cumulative number when arranged by galaxy (to easily access the correct distance-modulus parameter in ``stan`` below). We'll also include NGC 4258 itself in the fit (as asked in Bonus Problem 1) and therefore we also need to keep track of where NGC 4258 is in this array, because we have to set its relative distance modulus to NGC 4258 equal to zero!"
   ]
  },
  {
   "cell_type": "code",
   "execution_count": 10,
   "metadata": {},
   "outputs": [],
   "source": [
    "# Count number of Cepheids in each galaxy\n",
    "import collections\n",
    "ceph_count= collections.Counter(data['Gal'])\n",
    "current_gal= data['Gal'][0]\n",
    "# Start with 0 to allow cumulative number to start with zero, remove 0 below\n",
    "ndata_per_galaxy= [0,ceph_count[current_gal]]\n",
    "n4258_index= 0\n",
    "foundN4258= False\n",
    "if not foundN4258 and current_gal != 'N4258': n4258_index+= 1\n",
    "for gal in data['Gal']:\n",
    "    if gal == current_gal: pass\n",
    "    else:\n",
    "        current_gal= gal\n",
    "        ndata_per_galaxy.append(ceph_count[current_gal])\n",
    "        if not foundN4258 and gal != 'N4258':\n",
    "            n4258_index+= 1\n",
    "        elif gal == 'N4258':\n",
    "            foundN4258= True\n",
    "ndata_per_galaxy= numpy.array(ndata_per_galaxy,dtype='int')\n",
    "ndata_per_galaxy_cumul= numpy.cumsum(ndata_per_galaxy)\n",
    "ndata_per_galaxy= ndata_per_galaxy[1:]\n",
    "ndata_per_galaxy_cumul= ndata_per_galaxy_cumul[:-1]"
   ]
  },
  {
   "cell_type": "markdown",
   "metadata": {},
   "source": [
    "We write down the ``stan`` model:"
   ]
  },
  {
   "cell_type": "code",
   "execution_count": 11,
   "metadata": {},
   "outputs": [],
   "source": [
    "import pystan"
   ]
  },
  {
   "cell_type": "code",
   "execution_count": 12,
   "metadata": {
    "scrolled": true
   },
   "outputs": [
    {
     "name": "stderr",
     "output_type": "stream",
     "text": [
      "INFO:pystan:COMPILING THE C++ CODE FOR MODEL anon_model_2b1ed5411c73a4bd99ca79a3382de0b7 NOW.\n"
     ]
    }
   ],
   "source": [
    "stan_code = \"\"\"\n",
    "data {\n",
    "    int ngal; # Number of galaxies\n",
    "    int ndata; # Total number of Cepheids\n",
    "    int n4258_index; # Index of NGC 4258 in the galaxy array\n",
    "    int ndata_per_galaxy[ngal]; # Number of Cepheids in galaxy j\n",
    "    int ndata_per_galaxy_cumul[ngal]; # Cumulative number of Cepheids in galaxy j\n",
    "    real mWij[ndata]; // Wesenheit magnitude\n",
    "    real lPij[ndata]; // log_10 Period in days\n",
    "    real dOHij[ndata]; // Differential log_10 Metallicity\n",
    "    real sigij[ndata]; // Measurement errors\n",
    "}\n",
    "parameters {\n",
    "    real<lower=-5,upper=10> muRel[ngal-1]; # Distance modulus of galaxy j wrt N4258\n",
    "    real <lower=25.,upper=28.> zp;\n",
    "    real <lower=-3.5,upper=-2.5> bW;\n",
    "    real <lower=-0.5,upper=0.5> Zw;\n",
    "    real <lower=-10.,upper=10.> lnV;\n",
    "}\n",
    "transformed parameters {\n",
    "    real mu[ndata];\n",
    "    real sig[ndata];\n",
    "    real V;\n",
    "    real this_muRel;\n",
    "    V= exp(lnV);\n",
    "    for (i in 1:ngal) {\n",
    "        if ( i < n4258_index ) {\n",
    "            this_muRel= muRel[i];\n",
    "        } else if  ( i > n4258_index ) {\n",
    "            this_muRel= muRel[i-1];\n",
    "        } else {\n",
    "            this_muRel= 0.;\n",
    "        }\n",
    "        for (j in 1:ndata_per_galaxy[i]) {\n",
    "            mu[ndata_per_galaxy_cumul[i]+j] = this_muRel + zp + bW*lPij[ndata_per_galaxy_cumul[i]+j] \\\n",
    "                    + Zw*dOHij[ndata_per_galaxy_cumul[i]+j];\n",
    "            sig[ndata_per_galaxy_cumul[i]+j] = (sigij[ndata_per_galaxy_cumul[i]+j]^2 + V)^0.5;\n",
    "        };\n",
    "    };\n",
    "}\n",
    "model {\n",
    "    mWij ~ normal(mu, sig);\n",
    "}\n",
    "\"\"\"\n",
    "stan_model= pystan.StanModel(model_code=stan_code)"
   ]
  },
  {
   "cell_type": "markdown",
   "metadata": {},
   "source": [
    "and perform MCMC sampling:"
   ]
  },
  {
   "cell_type": "code",
   "execution_count": null,
   "metadata": {},
   "outputs": [],
   "source": [
    "fit= stan_model.sampling(data=dict(ngal=len(set(data['Gal'])),\n",
    "                                   ndata=len(data),\n",
    "                                   n4258_index=n4258_index+1,\n",
    "                                   ndata_per_galaxy=ndata_per_galaxy,\n",
    "                                   ndata_per_galaxy_cumul=ndata_per_galaxy_cumul,\n",
    "                                   mWij=data['mW'],\n",
    "                                   lPij=numpy.log10(data['Per']),\n",
    "                                   dOHij=data['[O/H]']-8.66,\n",
    "                                   sigij=data['sigTot']),\n",
    "                         iter=10000,chains=4)"
   ]
  },
  {
   "cell_type": "markdown",
   "metadata": {},
   "source": [
    "Let's take a look at the chain using ``stan`` tools:"
   ]
  },
  {
   "cell_type": "code",
   "execution_count": null,
   "metadata": {},
   "outputs": [],
   "source": [
    "figsize(12,14)\n",
    "fit.plot(['muRel','zp','bW','Zw','V'])\n",
    "tight_layout()"
   ]
  },
  {
   "cell_type": "markdown",
   "metadata": {},
   "source": [
    "and using the ``corner.py`` plotting module for the main Leavitt-law parameter:"
   ]
  },
  {
   "cell_type": "code",
   "execution_count": null,
   "metadata": {
    "scrolled": false
   },
   "outputs": [],
   "source": [
    "import corner\n",
    "fig = corner.corner(numpy.array([fit.extract()['zp'],fit.extract()['bW'],\n",
    "                                 fit.extract()['Zw'],numpy.exp(fit.extract()['lnV'])]).T,\n",
    "                    labels=[\"$\\mathrm{z}_\\mathrm{p,N4258}$\",\n",
    "                            \"$b_W$\", \"$Z_w$\", \"$V$\"],\n",
    "                    show_titles=True)"
   ]
  },
  {
   "cell_type": "markdown",
   "metadata": {},
   "source": [
    "We see that all of the parameters of the Leavitt law are much better constrained when they are fit to the data of 20 galaxies simultaneously rather than just to NGC 4258.\n",
    "\n",
    "The following shows the ``corner`` plot of $z_{\\mathrm{p,N4258}}$ and all of the relative distance moduli, which shows that they are all pretty well determined:"
   ]
  },
  {
   "cell_type": "code",
   "execution_count": null,
   "metadata": {
    "scrolled": false
   },
   "outputs": [],
   "source": [
    "fig = corner.corner(numpy.vstack((fit.extract()['zp'],fit.extract()['muRel'].T)).T,\n",
    "                    show_titles=True)"
   ]
  },
  {
   "cell_type": "markdown",
   "metadata": {},
   "source": [
    "Let's compare the relative distance modulus of the galaxies to NGC 4258 to the value found by Riess et al. (2016). First we write down the data from Riess et al.'s Table 5:"
   ]
  },
  {
   "cell_type": "code",
   "execution_count": null,
   "metadata": {},
   "outputs": [],
   "source": [
    "# Data for each galaxy: distance modulus, uncertainty\n",
    "gal_riess= dict(M101=[29.135,0.045],\n",
    "                N1015=[32.497,0.081],\n",
    "                N1309=[32.523,0.055],\n",
    "                N1365=[31.307,0.057],\n",
    "                N1448=[31.311,0.045],\n",
    "                N2442=[31.511,0.053],\n",
    "                N3021=[32.498,0.090],\n",
    "                N3370=[32.072,0.049],\n",
    "                N3447=[31.908,0.043],\n",
    "                N3972=[31.587,0.070],\n",
    "                N3982=[31.737,0.069],\n",
    "                N4038=[31.290,0.112],\n",
    "                N4424=[31.080,0.292],\n",
    "                N4536=[30.906,0.053],\n",
    "                N4639=[31.532,0.071],\n",
    "                N5584=[31.786,0.046],\n",
    "                N5917=[32.263,0.102],\n",
    "                N7250=[31.499,0.078],\n",
    "                U9391=[32.919,0.063])                "
   ]
  },
  {
   "cell_type": "markdown",
   "metadata": {},
   "source": [
    "and we plot the comparison:"
   ]
  },
  {
   "cell_type": "code",
   "execution_count": null,
   "metadata": {
    "scrolled": false
   },
   "outputs": [],
   "source": [
    "figsize(6,4)\n",
    "gals= set(data['Gal'])\n",
    "muRels= fit.extract()['muRel']\n",
    "errorbar([gal_riess[name][0]-29.387 for name in sorted(gals) if name != 'N4258'],numpy.mean(muRels,axis=0),\n",
    "          yerr=numpy.std(muRels,axis=0),marker='o',ls='None')\n",
    "plot([-1,4],[-1,4])\n",
    "xlabel(r'$(\\mu-\\mu_{\\mathrm{N4258}})_{\\mathrm{Riess}}$')\n",
    "ylabel(r'$(\\mu-\\mu_{\\mathrm{N4258}})_{\\mathrm{This\\ work}}$');"
   ]
  },
  {
   "cell_type": "markdown",
   "metadata": {},
   "source": [
    "or more directly:"
   ]
  },
  {
   "cell_type": "code",
   "execution_count": null,
   "metadata": {
    "scrolled": false
   },
   "outputs": [],
   "source": [
    "figsize(6,4)\n",
    "gals= set(data['Gal'])\n",
    "muRels= fit.extract()['muRel']\n",
    "errorbar([gal_riess[name][0]-29.387 for name in sorted(gals) if name != 'N4258'],\n",
    "         [gal_riess[name][0]-29.387 for name in sorted(gals) if name != 'N4258']-numpy.mean(muRels,axis=0),\n",
    "          yerr=numpy.std(muRels,axis=0),marker='o',ls='None')\n",
    "axhline(0.,color='k')\n",
    "xlabel(r'$(\\mu-\\mu_{\\mathrm{N4258}})_{\\mathrm{Riess}}$')\n",
    "ylabel(r'$\\Delta$');"
   ]
  },
  {
   "cell_type": "markdown",
   "metadata": {},
   "source": [
    "The distance moduli that we have measured here agree very well with those from Riess et al. The uncertainties are approximately equal.\n",
    "\n",
    "## Problem 5\n",
    "\n",
    "*Combine your measurements of $(\\mu − \\mu_{\\mathrm{N4258}})_j$ from Problem 4 with the data in Table 5 of Riess et al. (2016) to determine the SN Ia magnitude in NGC 4258 $m_{B,\\mathrm{N4258}}$ and the Hubble constant $H_0$ using Equations (4) and (5), respectively. Note that the SN Ia magnitudes have uncertainties of their own.*\n",
    "\n",
    "We start by loading the relevant data from Table 5:"
   ]
  },
  {
   "cell_type": "code",
   "execution_count": null,
   "metadata": {},
   "outputs": [],
   "source": [
    "# Data for each galaxy: mB+5aB,uncertainty\n",
    "snia_riess= dict(M101=[13.310,0.117],\n",
    "                 N1015=[17.015,0.123],\n",
    "                 N1309=[16.756,0.116],\n",
    "                 N1365=[15.482,0.125],\n",
    "                 N1448=[15.765,0.116],\n",
    "                 N2442=[15.840,0.142],\n",
    "                 N3021=[16.527,0.117],\n",
    "                 N3370=[16.476,0.115],\n",
    "                 N3447=[16.265,0.124],\n",
    "                 N3972=[16.048,0.116],\n",
    "                 N3982=[15.795,0.115],\n",
    "                 N4038=[15.797,0.114],\n",
    "                 N4424=[15.110,0.109],\n",
    "                 N4536=[15.177,0.124],\n",
    "                 N4639=[15.983,0.115],\n",
    "                 N5584=[16.265,0.115],\n",
    "                 N5917=[16.572,0.115],\n",
    "                 N7250=[15.867,0.115],\n",
    "                 U9391=[17.034,0.114])"
   ]
  },
  {
   "cell_type": "markdown",
   "metadata": {},
   "source": [
    "and obtain the measurements of $(m_B+5\\,a_B)_i$ for each galaxy as well as $(\\mu-\\mu_\\mathrm{N4258})_i$ (Note that we can do everything in terms of $m_B+5\\,a_B$):"
   ]
  },
  {
   "cell_type": "code",
   "execution_count": null,
   "metadata": {},
   "outputs": [],
   "source": [
    "mBs= numpy.array([snia_riess[name][0] for name in gals if name != 'N4258'])\n",
    "mBuncs= numpy.array([snia_riess[name][1] for name in gals if name != 'N4258'])\n",
    "dms= numpy.mean(muRels,axis=0)\n",
    "dmuncs= numpy.std(muRels,axis=0)"
   ]
  },
  {
   "cell_type": "markdown",
   "metadata": {},
   "source": [
    "Each $(m_B+5\\,a_B)_i-(\\mu-\\mu_\\mathrm{N4258})_i$ is a noisy estimate of $(m_B+5\\,a_B)_{\\mathrm{N4258}}$, so we can average them all together using inverse-variance weighting:"
   ]
  },
  {
   "cell_type": "code",
   "execution_count": null,
   "metadata": {},
   "outputs": [],
   "source": [
    "mBN4258= numpy.sum((mBs-dms)/(mBuncs**2.+dmuncs**2.))/numpy.sum(1./(mBuncs**2.+dmuncs**2.))\n",
    "mBN4258unc= numpy.sqrt(1./numpy.sum(1./(mBuncs**2.+dmuncs**2.)))"
   ]
  },
  {
   "cell_type": "markdown",
   "metadata": {},
   "source": [
    "This then leads to the following Hubble constant (also taking into account the uncertainty on $\\mu_{\\mathrm{N4258}}$):"
   ]
  },
  {
   "cell_type": "code",
   "execution_count": null,
   "metadata": {},
   "outputs": [],
   "source": [
    "H0= 10.**(0.2*(mBN4258-29.387+25.))\n",
    "H0unc= H0*0.2*numpy.log(10.)*numpy.sqrt(mBN4258unc**2.+0.0568**2.)\n",
    "print(\"The Hubble constant is {:.2f} +/- {:.2f} km/s/Mpc\"\\\n",
    "          .format(H0,H0unc))"
   ]
  },
  {
   "cell_type": "markdown",
   "metadata": {},
   "source": [
    "This is a bit bigger than the value that Riess et al. (2016) measure using just NGC 4258 as a distance anchor, likely because we have not attempted to deal with outliers; the uncertainty is very similar."
   ]
  },
  {
   "cell_type": "code",
   "execution_count": null,
   "metadata": {
    "collapsed": true
   },
   "outputs": [],
   "source": []
  }
 ],
 "metadata": {
  "kernelspec": {
   "display_name": "Python 3",
   "language": "python",
   "name": "python3"
  },
  "language_info": {
   "codemirror_mode": {
    "name": "ipython",
    "version": 3
   },
   "file_extension": ".py",
   "mimetype": "text/x-python",
   "name": "python",
   "nbconvert_exporter": "python",
   "pygments_lexer": "ipython3",
   "version": "3.8.5"
  }
 },
 "nbformat": 4,
 "nbformat_minor": 2
}
